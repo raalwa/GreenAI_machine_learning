{
 "cells": [
  {
   "cell_type": "code",
   "execution_count": 1,
   "metadata": {},
   "outputs": [],
   "source": [
    "import requests\n",
    "import config\n",
    "import json\n",
    "import time"
   ]
  },
  {
   "cell_type": "code",
   "execution_count": 24,
   "metadata": {},
   "outputs": [],
   "source": [
    "session = requests.Session()\n",
    "change_detected = False\n",
    "last_data = None\n",
    "timestamp = None"
   ]
  },
  {
   "cell_type": "code",
   "execution_count": 25,
   "metadata": {},
   "outputs": [
    {
     "name": "stdout",
     "output_type": "stream",
     "text": [
      "Executing loop\n",
      "Executing loop\n",
      "Executing loop\n",
      "Executing loop\n",
      "Executing loop\n",
      "Executing loop\n",
      "Executing loop\n"
     ]
    }
   ],
   "source": [
    "while not change_detected:\n",
    "    print(\"Executing loop\")\n",
    "    try:\n",
    "        with session.get(f'{config.API_URL}lat={config.LATITUDE}&lon={config.LONGITUDE}&exclude={config.EXCLUDE}&appid={config.API_KEY}') as r:\n",
    "            r.raise_for_status()\n",
    "            data = r.json()\n",
    "    except Exception as exc:\n",
    "        print('Exception:', exc)\n",
    "    if last_data:\n",
    "        # last_data['current'].pop('dt', None)\n",
    "        last_data['current'].pop('weather', None)\n",
    "        last_data['current'].pop('rain', None)\n",
    "        # data['current'].pop('dt', None)\n",
    "        data['current'].pop('weather', None)\n",
    "        data['current'].pop('rain', None)\n",
    "        if not last_data == data:\n",
    "            timestamp = time.time()\n",
    "            change_detected = True\n",
    "        else:\n",
    "            last_data = data\n",
    "    else:\n",
    "        last_data = data\n",
    "    time.sleep(10)"
   ]
  },
  {
   "cell_type": "code",
   "execution_count": 26,
   "metadata": {},
   "outputs": [
    {
     "data": {
      "text/plain": [
       "{'lat': 49.0094,\n",
       " 'lon': 12.1038,\n",
       " 'timezone': 'Europe/Berlin',\n",
       " 'timezone_offset': 7200,\n",
       " 'current': {'dt': 1698193330,\n",
       "  'sunrise': 1698212806,\n",
       "  'sunset': 1698249863,\n",
       "  'temp': 284.25,\n",
       "  'feels_like': 283.9,\n",
       "  'pressure': 1004,\n",
       "  'humidity': 95,\n",
       "  'dew_point': 283.48,\n",
       "  'uvi': 0,\n",
       "  'clouds': 100,\n",
       "  'visibility': 10000,\n",
       "  'wind_speed': 0.89,\n",
       "  'wind_deg': 269,\n",
       "  'wind_gust': 2.68}}"
      ]
     },
     "execution_count": 26,
     "metadata": {},
     "output_type": "execute_result"
    }
   ],
   "source": [
    "data"
   ]
  },
  {
   "cell_type": "code",
   "execution_count": 27,
   "metadata": {},
   "outputs": [
    {
     "data": {
      "text/plain": [
       "{'lat': 49.0094,\n",
       " 'lon': 12.1038,\n",
       " 'timezone': 'Europe/Berlin',\n",
       " 'timezone_offset': 7200,\n",
       " 'current': {'dt': 1698193270,\n",
       "  'sunrise': 1698212806,\n",
       "  'sunset': 1698249863,\n",
       "  'temp': 284.25,\n",
       "  'feels_like': 283.9,\n",
       "  'pressure': 1004,\n",
       "  'humidity': 95,\n",
       "  'dew_point': 283.48,\n",
       "  'uvi': 0,\n",
       "  'clouds': 100,\n",
       "  'visibility': 10000,\n",
       "  'wind_speed': 0.89,\n",
       "  'wind_deg': 246,\n",
       "  'wind_gust': 2.68}}"
      ]
     },
     "execution_count": 27,
     "metadata": {},
     "output_type": "execute_result"
    }
   ],
   "source": [
    "last_data"
   ]
  },
  {
   "cell_type": "markdown",
   "metadata": {},
   "source": [
    "Timestamp for new data: 1698189634"
   ]
  },
  {
   "cell_type": "code",
   "execution_count": 12,
   "metadata": {},
   "outputs": [
    {
     "data": {
      "text/plain": [
       "1698189634.2579494"
      ]
     },
     "execution_count": 12,
     "metadata": {},
     "output_type": "execute_result"
    }
   ],
   "source": [
    "timestamp"
   ]
  },
  {
   "cell_type": "code",
   "execution_count": 7,
   "metadata": {},
   "outputs": [],
   "source": [
    "counter = 0"
   ]
  },
  {
   "cell_type": "code",
   "execution_count": 9,
   "metadata": {},
   "outputs": [],
   "source": [
    "while True:\n",
    "    if time.time() >= 1698189634:\n",
    "        if counter <= 10:\n",
    "            try:\n",
    "                with session.get(f'{config.API_URL}lat={config.LATITUDE}&lon={config.LONGITUDE}&exclude={config.EXCLUDE}&appid={config.API_KEY}') as r:\n",
    "                    r.raise_for_status()\n",
    "                    data = r.json()\n",
    "            except Exception as exc:\n",
    "                print('Exception:', exc)\n",
    "            if last_data:\n",
    "                last_data['current'].pop('dt', None)\n",
    "                last_data['current'].pop('weather', None)\n",
    "                last_data['current'].pop('rain', None)\n",
    "                data['current'].pop('dt', None)\n",
    "                data['current'].pop('weather', None)\n",
    "                data['current'].pop('rain', None)\n",
    "                if not last_data == data:\n",
    "                    timestamp = time.time()\n",
    "                    break\n",
    "                else:\n",
    "                    last_data = data\n",
    "            else:\n",
    "                last_data = data\n",
    "            counter += 1\n",
    "            time.sleep(1)\n",
    "        else:\n",
    "            break"
   ]
  }
 ],
 "metadata": {
  "kernelspec": {
   "display_name": "GreenAI_regression",
   "language": "python",
   "name": "python3"
  },
  "language_info": {
   "codemirror_mode": {
    "name": "ipython",
    "version": 3
   },
   "file_extension": ".py",
   "mimetype": "text/x-python",
   "name": "python",
   "nbconvert_exporter": "python",
   "pygments_lexer": "ipython3",
   "version": "3.11.3"
  },
  "orig_nbformat": 4
 },
 "nbformat": 4,
 "nbformat_minor": 2
}
