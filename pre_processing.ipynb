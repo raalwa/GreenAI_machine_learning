{
 "cells": [
  {
   "cell_type": "code",
   "execution_count": 1,
   "metadata": {},
   "outputs": [],
   "source": [
    "import pandas as pd\n",
    "import numpy as np\n",
    "from datetime import datetime\n",
    "import seaborn as sns\n",
    "import matplotlib.pyplot as plt"
   ]
  },
  {
   "cell_type": "code",
   "execution_count": 2,
   "metadata": {},
   "outputs": [],
   "source": [
    "from sklearn.model_selection import train_test_split \n",
    "from sklearn.linear_model import LinearRegression \n",
    "from sklearn.metrics import mean_squared_error\n",
    "from sklearn.preprocessing import PolynomialFeatures"
   ]
  },
  {
   "cell_type": "code",
   "execution_count": 3,
   "metadata": {},
   "outputs": [],
   "source": [
    "df_raw = pd.read_csv(\"2023-10-22_12 02 59_weather_log.csv\")"
   ]
  },
  {
   "cell_type": "markdown",
   "metadata": {},
   "source": [
    "# 01 Explore data"
   ]
  },
  {
   "cell_type": "code",
   "execution_count": null,
   "metadata": {},
   "outputs": [],
   "source": [
    "df_raw.head()"
   ]
  },
  {
   "cell_type": "code",
   "execution_count": null,
   "metadata": {},
   "outputs": [],
   "source": [
    "df_raw.info()"
   ]
  },
  {
   "cell_type": "code",
   "execution_count": null,
   "metadata": {},
   "outputs": [],
   "source": [
    "df_raw.corr()"
   ]
  },
  {
   "cell_type": "code",
   "execution_count": null,
   "metadata": {},
   "outputs": [],
   "source": [
    "current = df_raw['current'].to_numpy()\n",
    "voltage = df_raw['voltage'].to_numpy()\n",
    "power = df_raw['power'].to_numpy()\n",
    "uvi = df_raw['uvi'].to_numpy()"
   ]
  },
  {
   "cell_type": "code",
   "execution_count": null,
   "metadata": {},
   "outputs": [],
   "source": [
    "uvi.min()"
   ]
  },
  {
   "cell_type": "code",
   "execution_count": null,
   "metadata": {},
   "outputs": [],
   "source": [
    "current.max()"
   ]
  },
  {
   "cell_type": "code",
   "execution_count": null,
   "metadata": {},
   "outputs": [],
   "source": [
    "voltage.max()"
   ]
  },
  {
   "cell_type": "code",
   "execution_count": null,
   "metadata": {},
   "outputs": [],
   "source": [
    "power.max()"
   ]
  },
  {
   "cell_type": "code",
   "execution_count": null,
   "metadata": {},
   "outputs": [],
   "source": [
    "unique, counts = np.unique(current, return_counts=True)\n",
    "\n",
    "print(dict(zip(unique, counts)))"
   ]
  },
  {
   "cell_type": "code",
   "execution_count": null,
   "metadata": {},
   "outputs": [],
   "source": [
    "df_raw.info()"
   ]
  },
  {
   "cell_type": "markdown",
   "metadata": {},
   "source": [
    "# 02 Pre-process data"
   ]
  },
  {
   "cell_type": "code",
   "execution_count": 5,
   "metadata": {},
   "outputs": [],
   "source": [
    "df_processed = df_raw.copy()"
   ]
  },
  {
   "cell_type": "markdown",
   "metadata": {},
   "source": [
    "### Set current to 0 for absolute values of 1.25"
   ]
  },
  {
   "cell_type": "code",
   "execution_count": 6,
   "metadata": {},
   "outputs": [],
   "source": [
    "df_processed.loc[df_processed.current <= 1.25, 'current'] = 0"
   ]
  },
  {
   "cell_type": "code",
   "execution_count": null,
   "metadata": {},
   "outputs": [],
   "source": [
    "unique, counts = np.unique(df_processed.current, return_counts=True)\n",
    "\n",
    "print(dict(zip(unique, counts)))"
   ]
  },
  {
   "cell_type": "code",
   "execution_count": 7,
   "metadata": {},
   "outputs": [],
   "source": [
    "df_processed.loc[df_processed.voltage < 0, 'voltage'] = 0\n",
    "df_processed.loc[df_processed.current == 0, 'voltage'] = 0\n",
    "df_processed.loc[df_processed.current == 0, 'power'] = 0"
   ]
  },
  {
   "cell_type": "code",
   "execution_count": 8,
   "metadata": {},
   "outputs": [],
   "source": [
    "df_processed['is_day'] = df_processed.apply(lambda row: 1 if row['sunrise'] < row['dt'] and row['sunset'] > row['dt'] else 0, axis=1)"
   ]
  },
  {
   "cell_type": "code",
   "execution_count": 9,
   "metadata": {},
   "outputs": [],
   "source": [
    "df_processed.drop(columns=['sunset', 'sunrise', 'visibility'], inplace=True)"
   ]
  },
  {
   "cell_type": "code",
   "execution_count": null,
   "metadata": {},
   "outputs": [],
   "source": [
    "df_processed.corr()"
   ]
  },
  {
   "cell_type": "code",
   "execution_count": null,
   "metadata": {},
   "outputs": [],
   "source": [
    "df_processed[(df_processed.is_day == 0) & (df_processed.power > 0)]"
   ]
  },
  {
   "cell_type": "code",
   "execution_count": 10,
   "metadata": {},
   "outputs": [],
   "source": [
    "df_processed.loc[df_processed.is_day == 0, ['current','voltage','power']] = 0"
   ]
  },
  {
   "cell_type": "code",
   "execution_count": 11,
   "metadata": {},
   "outputs": [
    {
     "data": {
      "text/html": [
       "<div>\n",
       "<style scoped>\n",
       "    .dataframe tbody tr th:only-of-type {\n",
       "        vertical-align: middle;\n",
       "    }\n",
       "\n",
       "    .dataframe tbody tr th {\n",
       "        vertical-align: top;\n",
       "    }\n",
       "\n",
       "    .dataframe thead th {\n",
       "        text-align: right;\n",
       "    }\n",
       "</style>\n",
       "<table border=\"1\" class=\"dataframe\">\n",
       "  <thead>\n",
       "    <tr style=\"text-align: right;\">\n",
       "      <th></th>\n",
       "      <th>dt</th>\n",
       "      <th>clouds</th>\n",
       "      <th>uvi</th>\n",
       "      <th>temp</th>\n",
       "      <th>wind_speed</th>\n",
       "      <th>wind_deg</th>\n",
       "      <th>wind_gust</th>\n",
       "      <th>feels_like</th>\n",
       "      <th>pressure</th>\n",
       "      <th>dew_point</th>\n",
       "      <th>humidity</th>\n",
       "      <th>current</th>\n",
       "      <th>voltage</th>\n",
       "      <th>power</th>\n",
       "      <th>is_day</th>\n",
       "    </tr>\n",
       "  </thead>\n",
       "  <tbody>\n",
       "  </tbody>\n",
       "</table>\n",
       "</div>"
      ],
      "text/plain": [
       "Empty DataFrame\n",
       "Columns: [dt, clouds, uvi, temp, wind_speed, wind_deg, wind_gust, feels_like, pressure, dew_point, humidity, current, voltage, power, is_day]\n",
       "Index: []"
      ]
     },
     "execution_count": 11,
     "metadata": {},
     "output_type": "execute_result"
    }
   ],
   "source": [
    "df_processed[(df_processed.is_day == 0) & (df_processed.power > 0)]"
   ]
  },
  {
   "cell_type": "code",
   "execution_count": null,
   "metadata": {},
   "outputs": [],
   "source": [
    "df_processed['dt'] = df_processed['dt'].map(lambda timestamp: datetime.fromtimestamp(timestamp))"
   ]
  },
  {
   "cell_type": "code",
   "execution_count": null,
   "metadata": {},
   "outputs": [],
   "source": [
    "df_processed['dt'] = df_processed['dt'].dt.time"
   ]
  },
  {
   "cell_type": "code",
   "execution_count": 48,
   "metadata": {},
   "outputs": [
    {
     "data": {
      "text/plain": [
       "0       1696947124\n",
       "1       1696947725\n",
       "2       1696948325\n",
       "3       1696948926\n",
       "4       1696949527\n",
       "           ...    \n",
       "1518    1697966512\n",
       "1519    1697967113\n",
       "1520    1697967713\n",
       "1521    1697968314\n",
       "1522    1697968915\n",
       "Name: dt, Length: 1523, dtype: int64"
      ]
     },
     "execution_count": 48,
     "metadata": {},
     "output_type": "execute_result"
    }
   ],
   "source": [
    "df_processed['dt']"
   ]
  },
  {
   "cell_type": "code",
   "execution_count": null,
   "metadata": {},
   "outputs": [],
   "source": [
    "df_processed['dt'] = df_processed['dt'].map(lambda time: (time.hour * 60 + time.minute)*60+time.second)"
   ]
  },
  {
   "cell_type": "code",
   "execution_count": null,
   "metadata": {},
   "outputs": [],
   "source": [
    "df_processed.corr()"
   ]
  },
  {
   "cell_type": "markdown",
   "metadata": {},
   "source": [
    "# Exploration"
   ]
  },
  {
   "cell_type": "code",
   "execution_count": null,
   "metadata": {},
   "outputs": [],
   "source": [
    "sns.pairplot(df_processed)"
   ]
  },
  {
   "cell_type": "code",
   "execution_count": 12,
   "metadata": {},
   "outputs": [],
   "source": [
    "df_reduced = df_processed.copy()"
   ]
  },
  {
   "cell_type": "code",
   "execution_count": 13,
   "metadata": {},
   "outputs": [],
   "source": [
    "df_reduced.drop(columns=['wind_speed', 'wind_deg', 'wind_gust', 'feels_like', 'dew_point', 'humidity'], inplace=True)"
   ]
  },
  {
   "cell_type": "code",
   "execution_count": null,
   "metadata": {},
   "outputs": [],
   "source": [
    "df_reduced.corr()"
   ]
  },
  {
   "cell_type": "code",
   "execution_count": null,
   "metadata": {},
   "outputs": [],
   "source": [
    "sns.pairplot(df_reduced)"
   ]
  },
  {
   "cell_type": "markdown",
   "metadata": {},
   "source": [
    "# Setup Model"
   ]
  },
  {
   "cell_type": "markdown",
   "metadata": {},
   "source": [
    "## Multivariate Polynomial Regression"
   ]
  },
  {
   "cell_type": "code",
   "execution_count": 14,
   "metadata": {},
   "outputs": [],
   "source": [
    "degree = 2"
   ]
  },
  {
   "cell_type": "markdown",
   "metadata": {},
   "source": [
    "### All data"
   ]
  },
  {
   "cell_type": "code",
   "execution_count": 14,
   "metadata": {},
   "outputs": [],
   "source": [
    "X_complete = df_processed.drop(columns=['power', 'current', 'voltage'], axis=1)\n",
    "y_complete = df_processed['power']"
   ]
  },
  {
   "cell_type": "code",
   "execution_count": 15,
   "metadata": {},
   "outputs": [],
   "source": [
    "X_train_complete, X_test_complete, y_train_complete, y_test_complete = train_test_split(X_complete, y_complete, test_size=0.3, random_state=101)"
   ]
  },
  {
   "cell_type": "markdown",
   "metadata": {},
   "source": [
    "### Reduced data"
   ]
  },
  {
   "cell_type": "code",
   "execution_count": 16,
   "metadata": {},
   "outputs": [],
   "source": [
    "X_reduced = df_reduced.drop(columns=['power', 'current', 'voltage'], axis=1)\n",
    "y_reduced = df_reduced['power']"
   ]
  },
  {
   "cell_type": "markdown",
   "metadata": {},
   "source": [
    "##### All RMSE values according to random_state=101"
   ]
  },
  {
   "cell_type": "code",
   "execution_count": 17,
   "metadata": {},
   "outputs": [],
   "source": [
    "X_train_reduced, X_test_reduced, y_train_reduced, y_test_reduced = train_test_split(X_reduced, y_reduced, test_size=0.3, random_state=101)"
   ]
  },
  {
   "cell_type": "markdown",
   "metadata": {},
   "source": [
    "### Support Vector Regression"
   ]
  },
  {
   "cell_type": "code",
   "execution_count": 18,
   "metadata": {},
   "outputs": [],
   "source": [
    "from sklearn.preprocessing import StandardScaler\n",
    "from sklearn.svm import SVR\n",
    "StdS_X = StandardScaler()\n",
    "StdS_y = StandardScaler()"
   ]
  },
  {
   "cell_type": "markdown",
   "metadata": {},
   "source": [
    "#### Complete Data\n",
    "- Complete Data RMSE: 1381.2640889219967"
   ]
  },
  {
   "cell_type": "code",
   "execution_count": 60,
   "metadata": {},
   "outputs": [
    {
     "name": "stdout",
     "output_type": "stream",
     "text": [
      "1381.2640889219967\n"
     ]
    }
   ],
   "source": [
    "y_train_complete_shaped = y_train_complete.to_numpy().reshape(-1,1)\n",
    "X_train_complete_scaled = StdS_X.fit_transform(X_train_complete)\n",
    "y_train_complete_scaled = StdS_y.fit_transform(y_train_complete_shaped)\n",
    "regressor_complete = SVR(kernel='rbf')\n",
    "regressor_complete.fit(X_train_complete_scaled,y_train_complete_scaled.ravel())\n",
    "pred_complete = StdS_y.inverse_transform(regressor_complete.predict(StdS_X.transform(X_test_complete)).reshape(-1,1))\n",
    "RMSE_complete = mean_squared_error(y_test_complete,pred_complete,squared=False)\n",
    "print(RMSE_complete)"
   ]
  },
  {
   "cell_type": "markdown",
   "metadata": {},
   "source": [
    "##### Hyperparameter optimization with gridsearch\n",
    "- RMSE: 1326.0161044678691\n",
    "\n",
    "First Grid search with:\n",
    "grid = {'kernel' : ('linear', 'poly', 'rbf', 'sigmoid'),'C' : [1,5,10],'degree' : [3,8],'coef0' : [0.01,10,0.5],'gamma' : ('auto','scale')}\n",
    "BEST: SVR(C=10, coef0=10, gamma='auto', kernel='poly')\n",
    "RMSE: 1326.01\n",
    "\n",
    "Second Grid search with:\n",
    "grid = {'kernel' : ('poly', 'rbf'),'C' : [10,15,20],'degree' : [3],'coef0' : [8,10,12],'gamma' : ('auto','scale')}\n",
    "BEST: SVR(C=10, coef0=12, gamma='scale', kernel='poly')\n",
    "RMSE: 1327.4266682134587\n",
    "\n",
    "Third Grid search with:\n",
    "grid = {'kernel' : ('poly', 'rbf'),'C' : [9,10,11],'degree' : [2,3,4],'coef0' : [11,12,13],'gamma' : ('auto','scale')}"
   ]
  },
  {
   "cell_type": "code",
   "execution_count": 19,
   "metadata": {},
   "outputs": [],
   "source": [
    "from sklearn.model_selection import GridSearchCV"
   ]
  },
  {
   "cell_type": "code",
   "execution_count": 20,
   "metadata": {},
   "outputs": [],
   "source": [
    "param_grid = {'kernel' : ('linear', 'poly', 'rbf', 'sigmoid'),'C' : [1,5,10],'degree' : [3,8],'coef0' : [0.01,10,0.5],'gamma' : ('auto','scale')}\n",
    "regressor = SVR()"
   ]
  },
  {
   "cell_type": "code",
   "execution_count": 21,
   "metadata": {},
   "outputs": [],
   "source": [
    "grids = GridSearchCV(regressor, param_grid, n_jobs = -1, verbose = 2)"
   ]
  },
  {
   "cell_type": "code",
   "execution_count": 23,
   "metadata": {},
   "outputs": [],
   "source": [
    "y_train_complete_shaped = y_train_complete.to_numpy().reshape(-1,1)\n",
    "X_train_complete_scaled = StdS_X.fit_transform(X_train_complete)\n",
    "y_train_complete_scaled = StdS_y.fit_transform(y_train_complete_shaped)"
   ]
  },
  {
   "cell_type": "code",
   "execution_count": 24,
   "metadata": {},
   "outputs": [
    {
     "name": "stdout",
     "output_type": "stream",
     "text": [
      "Fitting 5 folds for each of 144 candidates, totalling 720 fits\n"
     ]
    },
    {
     "name": "stdout",
     "output_type": "stream",
     "text": [
      "[CV] END .C=1, coef0=0.01, degree=3, gamma=auto, kernel=poly; total time=   0.0s\n",
      "[CV] END .C=1, coef0=0.01, degree=3, gamma=auto, kernel=poly; total time=   0.0s\n",
      "[CV] END C=1, coef0=0.01, degree=3, gamma=auto, kernel=linear; total time=   0.1s\n",
      "[CV] END .C=1, coef0=0.01, degree=3, gamma=auto, kernel=poly; total time=   0.0s\n",
      "[CV] END .C=1, coef0=0.01, degree=3, gamma=auto, kernel=poly; total time=   0.0s\n",
      "[CV] END ..C=1, coef0=0.01, degree=3, gamma=auto, kernel=rbf; total time=   0.0s\n",
      "[CV] END .C=1, coef0=0.01, degree=3, gamma=auto, kernel=poly; total time=   0.0s\n",
      "[CV] END ..C=1, coef0=0.01, degree=3, gamma=auto, kernel=rbf; total time=   0.0s\n",
      "[CV] END C=1, coef0=0.01, degree=3, gamma=auto, kernel=linear; total time=   0.1s\n",
      "[CV] END C=1, coef0=0.01, degree=3, gamma=auto, kernel=linear; total time=   0.1s\n",
      "[CV] END C=1, coef0=0.01, degree=3, gamma=auto, kernel=linear; total time=   0.1s\n",
      "[CV] END ..C=1, coef0=0.01, degree=3, gamma=auto, kernel=rbf; total time=   0.0s\n",
      "[CV] END ..C=1, coef0=0.01, degree=3, gamma=auto, kernel=rbf; total time=   0.0s\n",
      "[CV] END C=1, coef0=0.01, degree=3, gamma=auto, kernel=linear; total time=   0.1s\n",
      "[CV] END C=1, coef0=0.01, degree=3, gamma=auto, kernel=sigmoid; total time=   0.1s\n",
      "[CV] END C=1, coef0=0.01, degree=3, gamma=auto, kernel=sigmoid; total time=   0.1s\n",
      "[CV] END C=1, coef0=0.01, degree=3, gamma=scale, kernel=poly; total time=   0.0s\n",
      "[CV] END C=1, coef0=0.01, degree=3, gamma=auto, kernel=sigmoid; total time=   0.1s\n",
      "[CV] END C=1, coef0=0.01, degree=3, gamma=auto, kernel=sigmoid; total time=   0.1s\n",
      "[CV] END C=1, coef0=0.01, degree=3, gamma=scale, kernel=linear; total time=   0.1s\n",
      "[CV] END C=1, coef0=0.01, degree=3, gamma=auto, kernel=sigmoid; total time=   0.1s\n",
      "[CV] END C=1, coef0=0.01, degree=3, gamma=scale, kernel=linear; total time=   0.1s\n",
      "[CV] END .C=1, coef0=0.01, degree=3, gamma=scale, kernel=rbf; total time=   0.0s\n",
      "[CV] END C=1, coef0=0.01, degree=3, gamma=scale, kernel=linear; total time=   0.1s\n",
      "[CV] END C=1, coef0=0.01, degree=3, gamma=scale, kernel=linear; total time=   0.1s\n",
      "[CV] END C=1, coef0=0.01, degree=3, gamma=scale, kernel=poly; total time=   0.0s\n",
      "[CV] END C=1, coef0=0.01, degree=3, gamma=scale, kernel=poly; total time=   0.0s\n",
      "[CV] END C=1, coef0=0.01, degree=3, gamma=scale, kernel=poly; total time=   0.0s\n",
      "[CV] END C=1, coef0=0.01, degree=3, gamma=scale, kernel=poly; total time=   0.0s\n",
      "[CV] END .C=1, coef0=0.01, degree=3, gamma=scale, kernel=rbf; total time=   0.0s\n",
      "[CV] END .C=1, coef0=0.01, degree=3, gamma=scale, kernel=rbf; total time=   0.0s\n",
      "[CV] END .C=1, coef0=0.01, degree=3, gamma=scale, kernel=rbf; total time=   0.0s\n",
      "[CV] END .C=1, coef0=0.01, degree=3, gamma=scale, kernel=rbf; total time=   0.0s\n",
      "[CV] END C=1, coef0=0.01, degree=3, gamma=scale, kernel=linear; total time=   0.1s\n",
      "[CV] END ..C=1, coef0=0.01, degree=3, gamma=auto, kernel=rbf; total time=   0.0s\n",
      "[CV] END C=1, coef0=0.01, degree=3, gamma=scale, kernel=sigmoid; total time=   0.1s\n",
      "[CV] END C=1, coef0=0.01, degree=3, gamma=scale, kernel=sigmoid; total time=   0.1s\n",
      "[CV] END C=1, coef0=0.01, degree=3, gamma=scale, kernel=sigmoid; total time=   0.1s\n",
      "[CV] END C=1, coef0=0.01, degree=3, gamma=scale, kernel=sigmoid; total time=   0.1s\n",
      "[CV] END C=1, coef0=0.01, degree=8, gamma=auto, kernel=linear; total time=   0.1s\n",
      "[CV] END C=1, coef0=0.01, degree=3, gamma=scale, kernel=sigmoid; total time=   0.1s\n",
      "[CV] END ..C=1, coef0=0.01, degree=8, gamma=auto, kernel=rbf; total time=   0.0s\n",
      "[CV] END ..C=1, coef0=0.01, degree=8, gamma=auto, kernel=rbf; total time=   0.0s\n",
      "[CV] END C=1, coef0=0.01, degree=8, gamma=auto, kernel=linear; total time=   0.1s\n",
      "[CV] END ..C=1, coef0=0.01, degree=8, gamma=auto, kernel=rbf; total time=   0.0s\n",
      "[CV] END .C=1, coef0=0.01, degree=8, gamma=auto, kernel=poly; total time=   0.1s\n",
      "[CV] END C=1, coef0=0.01, degree=8, gamma=auto, kernel=linear; total time=   0.1s\n",
      "[CV] END ..C=1, coef0=0.01, degree=8, gamma=auto, kernel=rbf; total time=   0.0s\n",
      "[CV] END .C=1, coef0=0.01, degree=8, gamma=auto, kernel=poly; total time=   0.1s\n",
      "[CV] END C=1, coef0=0.01, degree=8, gamma=auto, kernel=linear; total time=   0.1s\n",
      "[CV] END ..C=1, coef0=0.01, degree=8, gamma=auto, kernel=rbf; total time=   0.0s\n",
      "[CV] END .C=1, coef0=0.01, degree=8, gamma=auto, kernel=poly; total time=   0.1s\n",
      "[CV] END .C=1, coef0=0.01, degree=8, gamma=auto, kernel=poly; total time=   0.1s\n",
      "[CV] END .C=1, coef0=0.01, degree=8, gamma=auto, kernel=poly; total time=   0.1s\n",
      "[CV] END C=1, coef0=0.01, degree=8, gamma=auto, kernel=linear; total time=   0.1s\n",
      "[CV] END C=1, coef0=0.01, degree=8, gamma=auto, kernel=sigmoid; total time=   0.1s\n",
      "[CV] END C=1, coef0=0.01, degree=8, gamma=auto, kernel=sigmoid; total time=   0.1s\n",
      "[CV] END C=1, coef0=0.01, degree=8, gamma=auto, kernel=sigmoid; total time=   0.1s\n",
      "[CV] END C=1, coef0=0.01, degree=8, gamma=auto, kernel=sigmoid; total time=   0.1s\n",
      "[CV] END C=1, coef0=0.01, degree=8, gamma=auto, kernel=sigmoid; total time=   0.1s\n",
      "[CV] END C=1, coef0=0.01, degree=8, gamma=scale, kernel=poly; total time=   0.1s\n",
      "[CV] END C=1, coef0=0.01, degree=8, gamma=scale, kernel=poly; total time=   0.1s\n",
      "[CV] END .C=1, coef0=0.01, degree=8, gamma=scale, kernel=rbf; total time=   0.0s\n",
      "[CV] END .C=1, coef0=0.01, degree=8, gamma=scale, kernel=rbf; total time=   0.0s\n",
      "[CV] END C=1, coef0=0.01, degree=8, gamma=scale, kernel=linear; total time=   0.1s\n",
      "[CV] END C=1, coef0=0.01, degree=8, gamma=scale, kernel=linear; total time=   0.1s\n",
      "[CV] END C=1, coef0=0.01, degree=8, gamma=scale, kernel=linear; total time=   0.1s\n",
      "[CV] END .C=1, coef0=0.01, degree=8, gamma=scale, kernel=rbf; total time=   0.0s\n",
      "[CV] END .C=1, coef0=0.01, degree=8, gamma=scale, kernel=rbf; total time=   0.0s\n",
      "[CV] END C=1, coef0=0.01, degree=8, gamma=scale, kernel=linear; total time=   0.1s\n",
      "[CV] END C=1, coef0=0.01, degree=8, gamma=scale, kernel=poly; total time=   0.1s\n",
      "[CV] END C=1, coef0=0.01, degree=8, gamma=scale, kernel=linear; total time=   0.1s\n",
      "[CV] END C=1, coef0=0.01, degree=8, gamma=scale, kernel=poly; total time=   0.1s\n",
      "[CV] END C=1, coef0=0.01, degree=8, gamma=scale, kernel=poly; total time=   0.1s\n",
      "[CV] END .C=1, coef0=0.01, degree=8, gamma=scale, kernel=rbf; total time=   0.0s\n",
      "[CV] END ....C=1, coef0=10, degree=3, gamma=auto, kernel=rbf; total time=   0.0s\n",
      "[CV] END ....C=1, coef0=10, degree=3, gamma=auto, kernel=rbf; total time=   0.0s\n",
      "[CV] END ....C=1, coef0=10, degree=3, gamma=auto, kernel=rbf; total time=   0.0s\n",
      "[CV] END ....C=1, coef0=10, degree=3, gamma=auto, kernel=rbf; total time=   0.0s\n",
      "[CV] END C=1, coef0=10, degree=3, gamma=auto, kernel=sigmoid; total time=   0.0s\n",
      "[CV] END ....C=1, coef0=10, degree=3, gamma=auto, kernel=rbf; total time=   0.0s\n",
      "[CV] END C=1, coef0=0.01, degree=8, gamma=scale, kernel=sigmoid; total time=   0.1s\n",
      "[CV] END C=1, coef0=0.01, degree=8, gamma=scale, kernel=sigmoid; total time=   0.1s\n",
      "[CV] END .C=1, coef0=10, degree=3, gamma=auto, kernel=linear; total time=   0.1s\n",
      "[CV] END C=1, coef0=10, degree=3, gamma=auto, kernel=sigmoid; total time=   0.0s\n",
      "[CV] END C=1, coef0=0.01, degree=8, gamma=scale, kernel=sigmoid; total time=   0.1s\n",
      "[CV] END C=1, coef0=10, degree=3, gamma=auto, kernel=sigmoid; total time=   0.0s\n",
      "[CV] END C=1, coef0=10, degree=3, gamma=auto, kernel=sigmoid; total time=   0.0s\n",
      "[CV] END .C=1, coef0=10, degree=3, gamma=auto, kernel=linear; total time=   0.1s\n",
      "[CV] END C=1, coef0=10, degree=3, gamma=auto, kernel=sigmoid; total time=   0.0s\n",
      "[CV] END .C=1, coef0=10, degree=3, gamma=auto, kernel=linear; total time=   0.1s\n",
      "[CV] END C=1, coef0=10, degree=3, gamma=scale, kernel=linear; total time=   0.1s\n",
      "[CV] END C=1, coef0=0.01, degree=8, gamma=scale, kernel=sigmoid; total time=   0.1s\n",
      "[CV] END C=1, coef0=0.01, degree=8, gamma=scale, kernel=sigmoid; total time=   0.1s\n",
      "[CV] END .C=1, coef0=10, degree=3, gamma=auto, kernel=linear; total time=   0.1s\n",
      "[CV] END ...C=1, coef0=10, degree=3, gamma=scale, kernel=rbf; total time=   0.0s\n",
      "[CV] END C=1, coef0=10, degree=3, gamma=scale, kernel=linear; total time=   0.1s\n",
      "[CV] END ...C=1, coef0=10, degree=3, gamma=scale, kernel=rbf; total time=   0.0s\n",
      "[CV] END C=1, coef0=10, degree=3, gamma=scale, kernel=linear; total time=   0.1s\n",
      "[CV] END ...C=1, coef0=10, degree=3, gamma=scale, kernel=rbf; total time=   0.0s\n",
      "[CV] END ...C=1, coef0=10, degree=3, gamma=scale, kernel=rbf; total time=   0.0s\n",
      "[CV] END .C=1, coef0=10, degree=3, gamma=auto, kernel=linear; total time=   0.1s\n",
      "[CV] END ...C=1, coef0=10, degree=3, gamma=scale, kernel=rbf; total time=   0.0s\n",
      "[CV] END C=1, coef0=10, degree=3, gamma=scale, kernel=sigmoid; total time=   0.0s\n",
      "[CV] END C=1, coef0=10, degree=3, gamma=scale, kernel=sigmoid; total time=   0.0s\n",
      "[CV] END C=1, coef0=10, degree=3, gamma=scale, kernel=linear; total time=   0.1s\n",
      "[CV] END C=1, coef0=10, degree=3, gamma=scale, kernel=sigmoid; total time=   0.0s\n",
      "[CV] END C=1, coef0=10, degree=3, gamma=scale, kernel=sigmoid; total time=   0.0s\n",
      "[CV] END C=1, coef0=10, degree=3, gamma=scale, kernel=linear; total time=   0.1s\n",
      "[CV] END C=1, coef0=10, degree=3, gamma=scale, kernel=sigmoid; total time=   0.0s\n",
      "[CV] END ....C=1, coef0=10, degree=8, gamma=auto, kernel=rbf; total time=   0.0s\n",
      "[CV] END .C=1, coef0=10, degree=8, gamma=auto, kernel=linear; total time=   0.1s\n",
      "[CV] END ....C=1, coef0=10, degree=8, gamma=auto, kernel=rbf; total time=   0.0s\n",
      "[CV] END C=1, coef0=10, degree=8, gamma=auto, kernel=sigmoid; total time=   0.0s\n",
      "[CV] END .C=1, coef0=10, degree=8, gamma=auto, kernel=linear; total time=   0.1s\n",
      "[CV] END ....C=1, coef0=10, degree=8, gamma=auto, kernel=rbf; total time=   0.0s\n",
      "[CV] END C=1, coef0=10, degree=8, gamma=auto, kernel=sigmoid; total time=   0.0s\n",
      "[CV] END C=1, coef0=10, degree=8, gamma=scale, kernel=linear; total time=   0.1s\n",
      "[CV] END C=1, coef0=10, degree=8, gamma=auto, kernel=sigmoid; total time=   0.0s\n",
      "[CV] END C=1, coef0=10, degree=8, gamma=auto, kernel=sigmoid; total time=   0.0s\n",
      "[CV] END .C=1, coef0=10, degree=8, gamma=auto, kernel=linear; total time=   0.1s\n",
      "[CV] END C=1, coef0=10, degree=8, gamma=auto, kernel=sigmoid; total time=   0.0s\n",
      "[CV] END C=1, coef0=10, degree=8, gamma=scale, kernel=linear; total time=   0.1s\n",
      "[CV] END C=1, coef0=10, degree=8, gamma=scale, kernel=linear; total time=   0.1s\n",
      "[CV] END .C=1, coef0=10, degree=8, gamma=auto, kernel=linear; total time=   0.1s\n",
      "[CV] END C=1, coef0=10, degree=8, gamma=scale, kernel=linear; total time=   0.1s\n",
      "[CV] END .C=1, coef0=10, degree=8, gamma=auto, kernel=linear; total time=   0.1s\n",
      "[CV] END ...C=1, coef0=10, degree=3, gamma=auto, kernel=poly; total time=   0.6s\n",
      "[CV] END ...C=1, coef0=10, degree=8, gamma=scale, kernel=rbf; total time=   0.0s\n",
      "[CV] END ...C=1, coef0=10, degree=8, gamma=scale, kernel=rbf; total time=   0.0s\n",
      "[CV] END C=1, coef0=10, degree=8, gamma=scale, kernel=linear; total time=   0.1s\n",
      "[CV] END ...C=1, coef0=10, degree=8, gamma=scale, kernel=rbf; total time=   0.0s\n",
      "[CV] END C=1, coef0=10, degree=8, gamma=scale, kernel=sigmoid; total time=   0.0s\n",
      "[CV] END C=1, coef0=10, degree=8, gamma=scale, kernel=sigmoid; total time=   0.0s\n",
      "[CV] END C=1, coef0=10, degree=8, gamma=scale, kernel=sigmoid; total time=   0.0s\n",
      "[CV] END C=1, coef0=10, degree=8, gamma=scale, kernel=sigmoid; total time=   0.0s\n",
      "[CV] END C=1, coef0=0.5, degree=3, gamma=auto, kernel=linear; total time=   0.1s\n",
      "[CV] END C=1, coef0=10, degree=8, gamma=scale, kernel=sigmoid; total time=   0.0s\n",
      "[CV] END ..C=1, coef0=10, degree=3, gamma=scale, kernel=poly; total time=   0.7s\n",
      "[CV] END ..C=1, coef0=10, degree=3, gamma=scale, kernel=poly; total time=   0.7s\n",
      "[CV] END C=1, coef0=0.5, degree=3, gamma=auto, kernel=linear; total time=   0.1s\n",
      "[CV] END C=1, coef0=0.5, degree=3, gamma=auto, kernel=linear; total time=   0.1s\n",
      "[CV] END ..C=1, coef0=0.5, degree=3, gamma=auto, kernel=poly; total time=   0.0s\n",
      "[CV] END ...C=1, coef0=10, degree=3, gamma=auto, kernel=poly; total time=   0.8s\n",
      "[CV] END ..C=1, coef0=0.5, degree=3, gamma=auto, kernel=poly; total time=   0.0s\n",
      "[CV] END ..C=1, coef0=10, degree=3, gamma=scale, kernel=poly; total time=   0.8s\n",
      "[CV] END ..C=1, coef0=0.5, degree=3, gamma=auto, kernel=poly; total time=   0.0s\n",
      "[CV] END ...C=1, coef0=0.5, degree=3, gamma=auto, kernel=rbf; total time=   0.0s\n",
      "[CV] END ...C=1, coef0=10, degree=3, gamma=auto, kernel=poly; total time=   0.9s\n",
      "[CV] END ..C=1, coef0=0.5, degree=3, gamma=auto, kernel=poly; total time=   0.0s\n",
      "[CV] END ...C=1, coef0=0.5, degree=3, gamma=auto, kernel=rbf; total time=   0.0s\n",
      "[CV] END ...C=1, coef0=0.5, degree=3, gamma=auto, kernel=rbf; total time=   0.0s\n",
      "[CV] END C=1, coef0=0.5, degree=3, gamma=auto, kernel=linear; total time=   0.1s\n",
      "[CV] END ...C=1, coef0=0.5, degree=3, gamma=auto, kernel=rbf; total time=   0.0s\n",
      "[CV] END ...C=1, coef0=0.5, degree=3, gamma=auto, kernel=rbf; total time=   0.0s\n",
      "[CV] END ..C=1, coef0=0.5, degree=3, gamma=auto, kernel=poly; total time=   0.0s\n",
      "[CV] END C=1, coef0=0.5, degree=3, gamma=auto, kernel=linear; total time=   0.1s[CV] END C=1, coef0=0.5, degree=3, gamma=auto, kernel=sigmoid; total time=   0.1s\n",
      "\n",
      "[CV] END C=1, coef0=0.5, degree=3, gamma=auto, kernel=sigmoid; total time=   0.1s\n",
      "[CV] END C=1, coef0=0.5, degree=3, gamma=scale, kernel=linear; total time=   0.1s\n",
      "[CV] END .C=1, coef0=0.5, degree=3, gamma=scale, kernel=poly; total time=   0.0s\n",
      "[CV] END .C=1, coef0=0.5, degree=3, gamma=scale, kernel=poly; total time=   0.0s\n",
      "[CV] END C=1, coef0=0.5, degree=3, gamma=auto, kernel=sigmoid; total time=   0.1s\n",
      "[CV] END ..C=1, coef0=0.5, degree=3, gamma=scale, kernel=rbf; total time=   0.0s\n",
      "[CV] END C=1, coef0=0.5, degree=3, gamma=scale, kernel=linear; total time=   0.1s\n",
      "[CV] END C=1, coef0=0.5, degree=3, gamma=scale, kernel=linear; total time=   0.1s\n",
      "[CV] END ..C=1, coef0=0.5, degree=3, gamma=scale, kernel=rbf; total time=   0.0s\n",
      "[CV] END .C=1, coef0=0.5, degree=3, gamma=scale, kernel=poly; total time=   0.0s\n",
      "[CV] END ..C=1, coef0=0.5, degree=3, gamma=scale, kernel=rbf; total time=   0.0s\n",
      "[CV] END ...C=1, coef0=10, degree=3, gamma=auto, kernel=poly; total time=   0.6s\n",
      "[CV] END C=1, coef0=0.5, degree=3, gamma=auto, kernel=sigmoid; total time=   0.1s\n",
      "[CV] END ..C=1, coef0=0.5, degree=3, gamma=scale, kernel=rbf; total time=   0.0s\n",
      "[CV] END .C=1, coef0=0.5, degree=3, gamma=scale, kernel=poly; total time=   0.0s\n",
      "[CV] END ..C=1, coef0=0.5, degree=3, gamma=scale, kernel=rbf; total time=   0.0s\n",
      "[CV] END C=1, coef0=0.5, degree=3, gamma=scale, kernel=linear; total time=   0.1s\n",
      "[CV] END .C=1, coef0=0.5, degree=3, gamma=scale, kernel=poly; total time=   0.0s\n",
      "[CV] END C=1, coef0=0.5, degree=3, gamma=scale, kernel=sigmoid; total time=   0.1s\n",
      "[CV] END C=1, coef0=0.5, degree=3, gamma=auto, kernel=sigmoid; total time=   0.1s\n",
      "[CV] END C=1, coef0=0.5, degree=3, gamma=scale, kernel=sigmoid; total time=   0.1s\n",
      "[CV] END C=1, coef0=0.5, degree=3, gamma=scale, kernel=linear; total time=   0.1s\n",
      "[CV] END C=1, coef0=0.5, degree=8, gamma=auto, kernel=linear; total time=   0.1s\n",
      "[CV] END C=1, coef0=0.5, degree=3, gamma=scale, kernel=sigmoid; total time=   0.1s\n",
      "[CV] END ...C=1, coef0=0.5, degree=8, gamma=auto, kernel=rbf; total time=   0.0s\n",
      "[CV] END C=1, coef0=0.5, degree=8, gamma=auto, kernel=linear; total time=   0.1s\n",
      "[CV] END ...C=1, coef0=0.5, degree=8, gamma=auto, kernel=rbf; total time=   0.0s\n",
      "[CV] END ...C=1, coef0=0.5, degree=8, gamma=auto, kernel=rbf; total time=   0.0s\n",
      "[CV] END C=1, coef0=0.5, degree=8, gamma=auto, kernel=linear; total time=   0.1s\n",
      "[CV] END C=1, coef0=0.5, degree=3, gamma=scale, kernel=sigmoid; total time=   0.1s\n",
      "[CV] END ..C=1, coef0=10, degree=3, gamma=scale, kernel=poly; total time=   0.7s\n",
      "[CV] END ..C=1, coef0=0.5, degree=8, gamma=auto, kernel=poly; total time=   0.1s\n",
      "[CV] END ..C=1, coef0=0.5, degree=8, gamma=auto, kernel=poly; total time=   0.1s\n",
      "[CV] END C=1, coef0=0.5, degree=8, gamma=auto, kernel=sigmoid; total time=   0.1s\n",
      "[CV] END C=1, coef0=0.5, degree=3, gamma=scale, kernel=sigmoid; total time=   0.1s\n",
      "[CV] END C=1, coef0=0.5, degree=8, gamma=auto, kernel=linear; total time=   0.1s\n",
      "[CV] END C=1, coef0=0.5, degree=8, gamma=auto, kernel=sigmoid; total time=   0.1s\n",
      "[CV] END ..C=1, coef0=0.5, degree=8, gamma=auto, kernel=poly; total time=   0.1s\n",
      "[CV] END ..C=1, coef0=0.5, degree=8, gamma=auto, kernel=poly; total time=   0.1s\n",
      "[CV] END C=1, coef0=0.5, degree=8, gamma=scale, kernel=linear; total time=   0.1s\n",
      "[CV] END ...C=1, coef0=0.5, degree=8, gamma=auto, kernel=rbf; total time=   0.0s\n",
      "[CV] END C=1, coef0=0.5, degree=8, gamma=scale, kernel=linear; total time=   0.1s\n",
      "[CV] END C=1, coef0=0.5, degree=8, gamma=auto, kernel=linear; total time=   0.1s\n",
      "[CV] END ...C=1, coef0=0.5, degree=8, gamma=auto, kernel=rbf; total time=   0.0s\n",
      "[CV] END C=1, coef0=0.5, degree=8, gamma=auto, kernel=sigmoid; total time=   0.1s\n",
      "[CV] END ..C=1, coef0=0.5, degree=8, gamma=scale, kernel=rbf; total time=   0.0s\n",
      "[CV] END ..C=1, coef0=10, degree=3, gamma=scale, kernel=poly; total time=   0.8s\n",
      "[CV] END C=1, coef0=0.5, degree=8, gamma=scale, kernel=linear; total time=   0.1s\n",
      "[CV] END ..C=1, coef0=0.5, degree=8, gamma=auto, kernel=poly; total time=   0.1s\n",
      "[CV] END ..C=1, coef0=0.5, degree=8, gamma=scale, kernel=rbf; total time=   0.0s\n",
      "[CV] END ...C=1, coef0=10, degree=3, gamma=auto, kernel=poly; total time=   0.8s\n",
      "[CV] END C=1, coef0=0.5, degree=8, gamma=auto, kernel=sigmoid; total time=   0.1s\n",
      "[CV] END .C=1, coef0=0.5, degree=8, gamma=scale, kernel=poly; total time=   0.1s\n",
      "[CV] END ..C=1, coef0=0.5, degree=8, gamma=scale, kernel=rbf; total time=   0.0s\n",
      "[CV] END .C=1, coef0=0.5, degree=8, gamma=scale, kernel=poly; total time=   0.1s\n",
      "[CV] END C=1, coef0=0.5, degree=8, gamma=scale, kernel=linear; total time=   0.1s\n",
      "[CV] END C=1, coef0=0.5, degree=8, gamma=scale, kernel=sigmoid; total time=   0.1s\n",
      "[CV] END C=1, coef0=0.5, degree=8, gamma=auto, kernel=sigmoid; total time=   0.1s\n",
      "[CV] END C=1, coef0=0.5, degree=8, gamma=scale, kernel=sigmoid; total time=   0.1s\n",
      "[CV] END .C=1, coef0=0.5, degree=8, gamma=scale, kernel=poly; total time=   0.1s\n",
      "[CV] END C=1, coef0=0.5, degree=8, gamma=scale, kernel=linear; total time=   0.1s\n",
      "[CV] END .C=5, coef0=0.01, degree=3, gamma=auto, kernel=poly; total time=   0.1s\n",
      "[CV] END ..C=5, coef0=0.01, degree=3, gamma=auto, kernel=rbf; total time=   0.0s\n",
      "[CV] END .C=1, coef0=0.5, degree=8, gamma=scale, kernel=poly; total time=   0.1s\n",
      "[CV] END C=1, coef0=0.5, degree=8, gamma=scale, kernel=sigmoid; total time=   0.1s\n",
      "[CV] END ..C=5, coef0=0.01, degree=3, gamma=auto, kernel=rbf; total time=   0.0s\n",
      "[CV] END ..C=1, coef0=0.5, degree=8, gamma=scale, kernel=rbf; total time=   0.0s\n",
      "[CV] END .C=5, coef0=0.01, degree=3, gamma=auto, kernel=poly; total time=   0.1s\n",
      "[CV] END ..C=1, coef0=0.5, degree=8, gamma=scale, kernel=rbf; total time=   0.0s\n",
      "[CV] END ..C=5, coef0=0.01, degree=3, gamma=auto, kernel=rbf; total time=   0.0s\n",
      "[CV] END C=5, coef0=0.01, degree=3, gamma=auto, kernel=sigmoid; total time=   0.1s\n",
      "[CV] END ..C=5, coef0=0.01, degree=3, gamma=auto, kernel=rbf; total time=   0.0s\n",
      "[CV] END C=5, coef0=0.01, degree=3, gamma=auto, kernel=linear; total time=   0.3s\n",
      "[CV] END .C=1, coef0=0.5, degree=8, gamma=scale, kernel=poly; total time=   0.1s\n",
      "[CV] END C=1, coef0=0.5, degree=8, gamma=scale, kernel=sigmoid; total time=   0.1s\n",
      "[CV] END ..C=5, coef0=0.01, degree=3, gamma=auto, kernel=rbf; total time=   0.0s\n",
      "[CV] END C=5, coef0=0.01, degree=3, gamma=auto, kernel=linear; total time=   0.3s\n",
      "[CV] END C=5, coef0=0.01, degree=3, gamma=auto, kernel=sigmoid; total time=   0.1s\n",
      "[CV] END C=5, coef0=0.01, degree=3, gamma=auto, kernel=sigmoid; total time=   0.1s\n",
      "[CV] END C=5, coef0=0.01, degree=3, gamma=scale, kernel=poly; total time=   0.1s\n",
      "[CV] END .C=5, coef0=0.01, degree=3, gamma=scale, kernel=rbf; total time=   0.0s\n",
      "[CV] END C=1, coef0=0.5, degree=8, gamma=scale, kernel=sigmoid; total time=   0.1s\n",
      "[CV] END .C=5, coef0=0.01, degree=3, gamma=auto, kernel=poly; total time=   0.1s\n",
      "[CV] END .C=5, coef0=0.01, degree=3, gamma=scale, kernel=rbf; total time=   0.0s\n",
      "[CV] END C=5, coef0=0.01, degree=3, gamma=scale, kernel=poly; total time=   0.1s\n",
      "[CV] END C=5, coef0=0.01, degree=3, gamma=auto, kernel=sigmoid; total time=   0.1s\n",
      "[CV] END .C=5, coef0=0.01, degree=3, gamma=scale, kernel=rbf; total time=   0.0s\n",
      "[CV] END .C=5, coef0=0.01, degree=3, gamma=scale, kernel=rbf; total time=   0.0s\n",
      "[CV] END .C=5, coef0=0.01, degree=3, gamma=auto, kernel=poly; total time=   0.1s\n",
      "[CV] END C=5, coef0=0.01, degree=3, gamma=scale, kernel=sigmoid; total time=   0.1s\n",
      "[CV] END .C=5, coef0=0.01, degree=3, gamma=scale, kernel=rbf; total time=   0.0s\n",
      "[CV] END C=5, coef0=0.01, degree=3, gamma=scale, kernel=linear; total time=   0.3s\n",
      "[CV] END C=5, coef0=0.01, degree=3, gamma=auto, kernel=sigmoid; total time=   0.1s\n",
      "[CV] END .C=5, coef0=0.01, degree=3, gamma=auto, kernel=poly; total time=   0.1s\n",
      "[CV] END C=5, coef0=0.01, degree=3, gamma=scale, kernel=sigmoid; total time=   0.1s\n",
      "[CV] END ..C=5, coef0=0.01, degree=8, gamma=auto, kernel=rbf; total time=   0.0s\n",
      "[CV] END C=5, coef0=0.01, degree=3, gamma=scale, kernel=linear; total time=   0.3s\n",
      "[CV] END C=5, coef0=0.01, degree=3, gamma=scale, kernel=sigmoid; total time=   0.1s\n",
      "[CV] END ..C=5, coef0=0.01, degree=8, gamma=auto, kernel=rbf; total time=   0.0s\n",
      "[CV] END C=5, coef0=0.01, degree=3, gamma=auto, kernel=linear; total time=   0.4s\n",
      "[CV] END .C=5, coef0=0.01, degree=8, gamma=auto, kernel=poly; total time=   0.1s\n",
      "[CV] END ..C=5, coef0=0.01, degree=8, gamma=auto, kernel=rbf; total time=   0.0s\n",
      "[CV] END C=5, coef0=0.01, degree=3, gamma=scale, kernel=poly; total time=   0.1s\n",
      "[CV] END C=5, coef0=0.01, degree=3, gamma=scale, kernel=sigmoid; total time=   0.1s\n",
      "[CV] END C=5, coef0=0.01, degree=3, gamma=scale, kernel=poly; total time=   0.1s\n",
      "[CV] END C=5, coef0=0.01, degree=8, gamma=auto, kernel=sigmoid; total time=   0.1s\n",
      "[CV] END C=5, coef0=0.01, degree=8, gamma=auto, kernel=linear; total time=   0.3s\n",
      "[CV] END .C=5, coef0=0.01, degree=8, gamma=auto, kernel=poly; total time=   0.1s\n",
      "[CV] END C=5, coef0=0.01, degree=3, gamma=scale, kernel=sigmoid; total time=   0.1s\n",
      "[CV] END C=5, coef0=0.01, degree=3, gamma=scale, kernel=poly; total time=   0.1s\n",
      "[CV] END ..C=5, coef0=0.01, degree=8, gamma=auto, kernel=rbf; total time=   0.0s\n",
      "[CV] END C=5, coef0=0.01, degree=8, gamma=auto, kernel=sigmoid; total time=   0.1s\n",
      "[CV] END ..C=5, coef0=0.01, degree=8, gamma=auto, kernel=rbf; total time=   0.0s\n",
      "[CV] END C=5, coef0=0.01, degree=8, gamma=auto, kernel=linear; total time=   0.3s\n",
      "[CV] END C=5, coef0=0.01, degree=3, gamma=scale, kernel=linear; total time=   0.4s\n",
      "[CV] END C=5, coef0=0.01, degree=8, gamma=auto, kernel=sigmoid; total time=   0.1s\n",
      "[CV] END C=5, coef0=0.01, degree=8, gamma=scale, kernel=poly; total time=   0.1s\n",
      "[CV] END .C=5, coef0=0.01, degree=8, gamma=auto, kernel=poly; total time=   0.1s\n",
      "[CV] END C=5, coef0=0.01, degree=3, gamma=auto, kernel=linear; total time=   0.3s\n",
      "[CV] END C=5, coef0=0.01, degree=8, gamma=auto, kernel=sigmoid; total time=   0.1s\n",
      "[CV] END C=5, coef0=0.01, degree=8, gamma=scale, kernel=poly; total time=   0.1s\n",
      "[CV] END .C=5, coef0=0.01, degree=8, gamma=scale, kernel=rbf; total time=   0.0s\n",
      "[CV] END C=5, coef0=0.01, degree=8, gamma=scale, kernel=linear; total time=   0.3s\n",
      "[CV] END C=5, coef0=0.01, degree=8, gamma=auto, kernel=sigmoid; total time=   0.1s\n",
      "[CV] END C=5, coef0=0.01, degree=8, gamma=scale, kernel=linear; total time=   0.3s\n",
      "[CV] END .C=5, coef0=0.01, degree=8, gamma=scale, kernel=rbf; total time=   0.0s\n",
      "[CV] END C=5, coef0=0.01, degree=8, gamma=auto, kernel=linear; total time=   0.4s\n",
      "[CV] END .C=5, coef0=0.01, degree=8, gamma=scale, kernel=rbf; total time=   0.0s\n",
      "[CV] END .C=5, coef0=0.01, degree=8, gamma=scale, kernel=rbf; total time=   0.0s\n",
      "[CV] END .C=5, coef0=0.01, degree=8, gamma=auto, kernel=poly; total time=   0.2s\n",
      "[CV] END C=5, coef0=0.01, degree=8, gamma=scale, kernel=sigmoid; total time=   0.1s\n",
      "[CV] END C=5, coef0=0.01, degree=8, gamma=scale, kernel=poly; total time=   0.1s\n",
      "[CV] END .C=5, coef0=0.01, degree=8, gamma=scale, kernel=rbf; total time=   0.0s\n",
      "[CV] END C=5, coef0=0.01, degree=3, gamma=scale, kernel=linear; total time=   0.3s\n",
      "[CV] END C=5, coef0=0.01, degree=8, gamma=scale, kernel=sigmoid; total time=   0.1s\n",
      "[CV] END .C=5, coef0=0.01, degree=8, gamma=auto, kernel=poly; total time=   0.1s\n",
      "[CV] END C=5, coef0=0.01, degree=8, gamma=scale, kernel=sigmoid; total time=   0.1s\n",
      "[CV] END C=5, coef0=0.01, degree=8, gamma=scale, kernel=poly; total time=   0.1s\n",
      "[CV] END C=5, coef0=0.01, degree=3, gamma=auto, kernel=linear; total time=   0.4s\n",
      "[CV] END C=5, coef0=0.01, degree=8, gamma=scale, kernel=sigmoid; total time=   0.1s\n",
      "[CV] END C=5, coef0=0.01, degree=8, gamma=scale, kernel=sigmoid; total time=   0.1s\n",
      "[CV] END C=5, coef0=0.01, degree=8, gamma=scale, kernel=poly; total time=   0.1s\n",
      "[CV] END C=5, coef0=0.01, degree=8, gamma=scale, kernel=linear; total time=   0.4s\n",
      "[CV] END C=5, coef0=10, degree=3, gamma=auto, kernel=sigmoid; total time=   0.0s\n",
      "[CV] END ....C=5, coef0=10, degree=3, gamma=auto, kernel=rbf; total time=   0.0s[CV] END C=5, coef0=0.01, degree=8, gamma=auto, kernel=linear; total time=   0.3s\n",
      "\n",
      "[CV] END C=5, coef0=10, degree=3, gamma=auto, kernel=sigmoid; total time=   0.0s\n",
      "[CV] END ....C=5, coef0=10, degree=3, gamma=auto, kernel=rbf; total time=   0.0s\n",
      "[CV] END C=5, coef0=10, degree=3, gamma=auto, kernel=sigmoid; total time=   0.0s\n",
      "[CV] END ....C=5, coef0=10, degree=3, gamma=auto, kernel=rbf; total time=   0.0s\n",
      "[CV] END C=5, coef0=10, degree=3, gamma=auto, kernel=sigmoid; total time=   0.0s\n",
      "[CV] END C=5, coef0=10, degree=3, gamma=auto, kernel=sigmoid; total time=   0.0s\n",
      "[CV] END .C=5, coef0=10, degree=3, gamma=auto, kernel=linear; total time=   0.3s\n",
      "[CV] END .C=5, coef0=10, degree=3, gamma=auto, kernel=linear; total time=   0.3s\n",
      "[CV] END C=5, coef0=0.01, degree=3, gamma=scale, kernel=linear; total time=   0.4s\n",
      "[CV] END C=5, coef0=10, degree=3, gamma=scale, kernel=linear; total time=   0.3s\n",
      "[CV] END C=5, coef0=0.01, degree=8, gamma=auto, kernel=linear; total time=   0.4s\n",
      "[CV] END ...C=5, coef0=10, degree=3, gamma=scale, kernel=rbf; total time=   0.0s[CV] END C=5, coef0=10, degree=3, gamma=scale, kernel=linear; total time=   0.3s\n",
      "\n",
      "[CV] END C=5, coef0=0.01, degree=8, gamma=scale, kernel=linear; total time=   0.4s\n",
      "[CV] END ...C=5, coef0=10, degree=3, gamma=scale, kernel=rbf; total time=   0.0s\n",
      "[CV] END ...C=5, coef0=10, degree=3, gamma=scale, kernel=rbf; total time=   0.0s\n",
      "[CV] END C=5, coef0=10, degree=3, gamma=scale, kernel=sigmoid; total time=   0.0s\n",
      "[CV] END .C=5, coef0=10, degree=3, gamma=auto, kernel=linear; total time=   0.4s\n",
      "[CV] END C=5, coef0=10, degree=3, gamma=scale, kernel=sigmoid; total time=   0.0s\n",
      "[CV] END C=5, coef0=10, degree=3, gamma=scale, kernel=sigmoid; total time=   0.0s\n",
      "[CV] END C=5, coef0=10, degree=3, gamma=scale, kernel=sigmoid; total time=   0.0s\n",
      "[CV] END C=5, coef0=10, degree=3, gamma=scale, kernel=sigmoid; total time=   0.0s\n",
      "[CV] END C=5, coef0=10, degree=3, gamma=scale, kernel=linear; total time=   0.4s\n",
      "[CV] END C=5, coef0=0.01, degree=8, gamma=scale, kernel=linear; total time=   0.4s\n",
      "[CV] END .C=5, coef0=10, degree=3, gamma=auto, kernel=linear; total time=   0.4s\n",
      "[CV] END .C=5, coef0=10, degree=8, gamma=auto, kernel=linear; total time=   0.3s\n",
      "[CV] END C=5, coef0=10, degree=3, gamma=scale, kernel=linear; total time=   0.4s\n",
      "[CV] END .C=5, coef0=10, degree=8, gamma=auto, kernel=linear; total time=   0.4s\n",
      "[CV] END .C=5, coef0=10, degree=8, gamma=auto, kernel=linear; total time=   0.4s\n",
      "[CV] END .C=5, coef0=10, degree=3, gamma=auto, kernel=linear; total time=   0.4s\n",
      "[CV] END C=5, coef0=10, degree=3, gamma=scale, kernel=linear; total time=   0.4s\n",
      "[CV] END ....C=5, coef0=10, degree=8, gamma=auto, kernel=rbf; total time=   0.0s\n",
      "[CV] END ....C=5, coef0=10, degree=8, gamma=auto, kernel=rbf; total time=   0.0s\n",
      "[CV] END ....C=5, coef0=10, degree=8, gamma=auto, kernel=rbf; total time=   0.0s\n",
      "[CV] END C=5, coef0=10, degree=8, gamma=auto, kernel=sigmoid; total time=   0.0s\n",
      "[CV] END .C=5, coef0=10, degree=8, gamma=auto, kernel=linear; total time=   0.4s\n",
      "[CV] END C=5, coef0=10, degree=8, gamma=auto, kernel=sigmoid; total time=   0.0s\n",
      "[CV] END C=5, coef0=10, degree=8, gamma=auto, kernel=sigmoid; total time=   0.0s\n",
      "[CV] END C=5, coef0=10, degree=8, gamma=auto, kernel=sigmoid; total time=   0.0s\n",
      "[CV] END C=5, coef0=10, degree=8, gamma=auto, kernel=sigmoid; total time=   0.0s\n",
      "[CV] END .C=5, coef0=10, degree=8, gamma=auto, kernel=linear; total time=   0.5s\n",
      "[CV] END C=5, coef0=10, degree=8, gamma=scale, kernel=linear; total time=   0.3s\n",
      "[CV] END C=5, coef0=10, degree=8, gamma=scale, kernel=linear; total time=   0.3s\n",
      "[CV] END C=5, coef0=10, degree=8, gamma=scale, kernel=linear; total time=   0.4s\n",
      "[CV] END C=5, coef0=10, degree=8, gamma=scale, kernel=linear; total time=   0.4s\n",
      "[CV] END ..C=5, coef0=10, degree=3, gamma=scale, kernel=poly; total time=   2.9s\n",
      "[CV] END C=5, coef0=10, degree=8, gamma=scale, kernel=linear; total time=   0.5s\n",
      "[CV] END ...C=5, coef0=10, degree=3, gamma=auto, kernel=poly; total time=   3.5s\n",
      "[CV] END ..C=5, coef0=10, degree=3, gamma=scale, kernel=poly; total time=   3.4s\n",
      "[CV] END ...C=5, coef0=10, degree=3, gamma=auto, kernel=poly; total time=   4.1s\n",
      "[CV] END ..C=5, coef0=10, degree=3, gamma=scale, kernel=poly; total time=   3.0s\n",
      "[CV] END ...C=5, coef0=10, degree=3, gamma=scale, kernel=rbf; total time=   0.0s\n",
      "[CV] END ...C=5, coef0=10, degree=3, gamma=scale, kernel=rbf; total time=   0.0s\n",
      "[CV] END ...C=5, coef0=10, degree=8, gamma=scale, kernel=rbf; total time=   0.0s\n",
      "[CV] END ...C=5, coef0=10, degree=8, gamma=scale, kernel=rbf; total time=   0.0s\n",
      "[CV] END ...C=5, coef0=10, degree=8, gamma=scale, kernel=rbf; total time=   0.0s\n",
      "[CV] END C=5, coef0=10, degree=8, gamma=scale, kernel=sigmoid; total time=   0.0s\n",
      "[CV] END C=5, coef0=10, degree=8, gamma=scale, kernel=sigmoid; total time=   0.0s\n",
      "[CV] END C=5, coef0=10, degree=8, gamma=scale, kernel=sigmoid; total time=   0.0s\n",
      "[CV] END C=5, coef0=10, degree=8, gamma=scale, kernel=sigmoid; total time=   0.0s\n",
      "[CV] END C=5, coef0=10, degree=8, gamma=scale, kernel=sigmoid; total time=   0.0s\n",
      "[CV] END C=5, coef0=0.5, degree=3, gamma=auto, kernel=linear; total time=   0.3s\n",
      "[CV] END ...C=5, coef0=10, degree=3, gamma=auto, kernel=poly; total time=   3.5s\n",
      "[CV] END ....C=5, coef0=10, degree=3, gamma=auto, kernel=rbf; total time=   0.0s\n",
      "[CV] END ....C=5, coef0=10, degree=3, gamma=auto, kernel=rbf; total time=   0.0s\n",
      "[CV] END C=5, coef0=0.5, degree=3, gamma=auto, kernel=linear; total time=   0.4s\n",
      "[CV] END C=5, coef0=0.5, degree=3, gamma=auto, kernel=linear; total time=   0.3s\n",
      "[CV] END ..C=5, coef0=0.5, degree=3, gamma=auto, kernel=poly; total time=   0.1s\n",
      "[CV] END ..C=5, coef0=0.5, degree=3, gamma=auto, kernel=poly; total time=   0.1s\n",
      "[CV] END C=5, coef0=0.5, degree=3, gamma=auto, kernel=linear; total time=   0.3s\n",
      "[CV] END ..C=5, coef0=0.5, degree=3, gamma=auto, kernel=poly; total time=   0.1s\n",
      "[CV] END ..C=5, coef0=0.5, degree=3, gamma=auto, kernel=poly; total time=   0.1s\n",
      "[CV] END ..C=5, coef0=0.5, degree=3, gamma=auto, kernel=poly; total time=   0.1s\n",
      "[CV] END ...C=5, coef0=0.5, degree=3, gamma=auto, kernel=rbf; total time=   0.0s\n",
      "[CV] END ...C=5, coef0=0.5, degree=3, gamma=auto, kernel=rbf; total time=   0.0s\n",
      "[CV] END ...C=5, coef0=0.5, degree=3, gamma=auto, kernel=rbf; total time=   0.0s\n",
      "[CV] END ...C=5, coef0=0.5, degree=3, gamma=auto, kernel=rbf; total time=   0.0s\n",
      "[CV] END ...C=5, coef0=0.5, degree=3, gamma=auto, kernel=rbf; total time=   0.0s\n",
      "[CV] END C=5, coef0=0.5, degree=3, gamma=auto, kernel=linear; total time=   0.4s\n",
      "[CV] END C=5, coef0=0.5, degree=3, gamma=auto, kernel=sigmoid; total time=   0.1s\n",
      "[CV] END C=5, coef0=0.5, degree=3, gamma=auto, kernel=sigmoid; total time=   0.1s\n",
      "[CV] END ..C=5, coef0=10, degree=3, gamma=scale, kernel=poly; total time=   4.1s\n",
      "[CV] END ...C=5, coef0=10, degree=3, gamma=auto, kernel=poly; total time=   3.8s\n",
      "[CV] END C=5, coef0=0.5, degree=3, gamma=auto, kernel=sigmoid; total time=   0.1s\n",
      "[CV] END C=5, coef0=0.5, degree=3, gamma=auto, kernel=sigmoid; total time=   0.1s\n",
      "[CV] END C=5, coef0=0.5, degree=3, gamma=auto, kernel=sigmoid; total time=   0.1s\n",
      "[CV] END C=5, coef0=0.5, degree=3, gamma=scale, kernel=linear; total time=   0.3s\n",
      "[CV] END C=5, coef0=0.5, degree=3, gamma=scale, kernel=linear; total time=   0.3s\n",
      "[CV] END C=5, coef0=0.5, degree=3, gamma=scale, kernel=linear; total time=   0.4s\n",
      "[CV] END .C=5, coef0=0.5, degree=3, gamma=scale, kernel=poly; total time=   0.1s\n",
      "[CV] END .C=5, coef0=0.5, degree=3, gamma=scale, kernel=poly; total time=   0.1s\n",
      "[CV] END .C=5, coef0=0.5, degree=3, gamma=scale, kernel=poly; total time=   0.1s\n",
      "[CV] END C=5, coef0=0.5, degree=3, gamma=scale, kernel=linear; total time=   0.3s\n",
      "[CV] END .C=5, coef0=0.5, degree=3, gamma=scale, kernel=poly; total time=   0.1s\n",
      "[CV] END .C=5, coef0=0.5, degree=3, gamma=scale, kernel=poly; total time=   0.1s\n",
      "[CV] END ..C=5, coef0=0.5, degree=3, gamma=scale, kernel=rbf; total time=   0.0s\n",
      "[CV] END ..C=5, coef0=0.5, degree=3, gamma=scale, kernel=rbf; total time=   0.0s\n",
      "[CV] END ..C=5, coef0=0.5, degree=3, gamma=scale, kernel=rbf; total time=   0.0s\n",
      "[CV] END ..C=5, coef0=0.5, degree=3, gamma=scale, kernel=rbf; total time=   0.0s\n",
      "[CV] END ..C=5, coef0=0.5, degree=3, gamma=scale, kernel=rbf; total time=   0.0s\n",
      "[CV] END C=5, coef0=0.5, degree=3, gamma=scale, kernel=linear; total time=   0.4s\n",
      "[CV] END C=5, coef0=0.5, degree=3, gamma=scale, kernel=sigmoid; total time=   0.1s\n",
      "[CV] END C=5, coef0=0.5, degree=3, gamma=scale, kernel=sigmoid; total time=   0.1s\n",
      "[CV] END C=5, coef0=0.5, degree=3, gamma=scale, kernel=sigmoid; total time=   0.1s\n",
      "[CV] END C=5, coef0=0.5, degree=3, gamma=scale, kernel=sigmoid; total time=   0.1s\n",
      "[CV] END C=5, coef0=0.5, degree=8, gamma=auto, kernel=linear; total time=   0.3s\n",
      "[CV] END C=5, coef0=0.5, degree=3, gamma=scale, kernel=sigmoid; total time=   0.1s\n",
      "[CV] END C=5, coef0=0.5, degree=8, gamma=auto, kernel=linear; total time=   0.3s\n",
      "[CV] END C=5, coef0=0.5, degree=8, gamma=auto, kernel=linear; total time=   0.4s\n",
      "[CV] END ..C=5, coef0=0.5, degree=8, gamma=auto, kernel=poly; total time=   0.3s\n",
      "[CV] END C=5, coef0=0.5, degree=8, gamma=auto, kernel=linear; total time=   0.4s\n",
      "[CV] END ..C=5, coef0=0.5, degree=8, gamma=auto, kernel=poly; total time=   0.3s\n",
      "[CV] END ..C=5, coef0=0.5, degree=8, gamma=auto, kernel=poly; total time=   0.2s\n",
      "[CV] END C=5, coef0=0.5, degree=8, gamma=auto, kernel=linear; total time=   0.4s\n",
      "[CV] END ...C=5, coef0=0.5, degree=8, gamma=auto, kernel=rbf; total time=   0.0s\n",
      "[CV] END ...C=5, coef0=0.5, degree=8, gamma=auto, kernel=rbf; total time=   0.0s\n",
      "[CV] END ...C=5, coef0=0.5, degree=8, gamma=auto, kernel=rbf; total time=   0.0s\n",
      "[CV] END C=5, coef0=0.5, degree=8, gamma=auto, kernel=sigmoid; total time=   0.1s\n",
      "[CV] END ..C=5, coef0=0.5, degree=8, gamma=auto, kernel=poly; total time=   0.3s\n",
      "[CV] END C=5, coef0=0.5, degree=8, gamma=auto, kernel=sigmoid; total time=   0.1s\n",
      "[CV] END C=5, coef0=0.5, degree=8, gamma=auto, kernel=sigmoid; total time=   0.1s\n",
      "[CV] END ...C=5, coef0=10, degree=3, gamma=auto, kernel=poly; total time=   3.2s\n",
      "[CV] END C=5, coef0=0.5, degree=8, gamma=auto, kernel=sigmoid; total time=   0.1s\n",
      "[CV] END ..C=5, coef0=0.5, degree=8, gamma=auto, kernel=poly; total time=   0.2s\n",
      "[CV] END ...C=5, coef0=0.5, degree=8, gamma=auto, kernel=rbf; total time=   0.0s\n",
      "[CV] END ...C=5, coef0=0.5, degree=8, gamma=auto, kernel=rbf; total time=   0.0s\n",
      "[CV] END C=5, coef0=0.5, degree=8, gamma=auto, kernel=sigmoid; total time=   0.1s\n",
      "[CV] END C=5, coef0=0.5, degree=8, gamma=scale, kernel=linear; total time=   0.3s\n",
      "[CV] END C=5, coef0=0.5, degree=8, gamma=scale, kernel=linear; total time=   0.3s\n",
      "[CV] END C=5, coef0=0.5, degree=8, gamma=scale, kernel=linear; total time=   0.4s\n",
      "[CV] END C=5, coef0=0.5, degree=8, gamma=scale, kernel=linear; total time=   0.4s\n",
      "[CV] END ..C=5, coef0=10, degree=3, gamma=scale, kernel=poly; total time=   3.9s\n",
      "[CV] END .C=5, coef0=0.5, degree=8, gamma=scale, kernel=poly; total time=   0.2s\n",
      "[CV] END C=5, coef0=0.5, degree=8, gamma=scale, kernel=linear; total time=   0.3s\n",
      "[CV] END .C=5, coef0=0.5, degree=8, gamma=scale, kernel=poly; total time=   0.3s\n",
      "[CV] END ..C=5, coef0=0.5, degree=8, gamma=scale, kernel=rbf; total time=   0.0s\n",
      "[CV] END .C=5, coef0=0.5, degree=8, gamma=scale, kernel=poly; total time=   0.2s\n",
      "[CV] END ..C=5, coef0=0.5, degree=8, gamma=scale, kernel=rbf; total time=   0.0s\n",
      "[CV] END .C=5, coef0=0.5, degree=8, gamma=scale, kernel=poly; total time=   0.3s\n",
      "[CV] END .C=5, coef0=0.5, degree=8, gamma=scale, kernel=poly; total time=   0.3s\n",
      "[CV] END ..C=5, coef0=0.5, degree=8, gamma=scale, kernel=rbf; total time=   0.0s\n",
      "[CV] END ..C=5, coef0=0.5, degree=8, gamma=scale, kernel=rbf; total time=   0.0s\n",
      "[CV] END ..C=5, coef0=0.5, degree=8, gamma=scale, kernel=rbf; total time=   0.0s\n",
      "[CV] END C=5, coef0=0.5, degree=8, gamma=scale, kernel=sigmoid; total time=   0.1s\n",
      "[CV] END C=5, coef0=0.5, degree=8, gamma=scale, kernel=sigmoid; total time=   0.1s\n",
      "[CV] END C=5, coef0=0.5, degree=8, gamma=scale, kernel=sigmoid; total time=   0.1s\n",
      "[CV] END C=5, coef0=0.5, degree=8, gamma=scale, kernel=sigmoid; total time=   0.1s\n",
      "[CV] END C=5, coef0=0.5, degree=8, gamma=scale, kernel=sigmoid; total time=   0.1s\n",
      "[CV] END C=10, coef0=0.01, degree=3, gamma=auto, kernel=linear; total time=   0.5s\n",
      "[CV] END C=10, coef0=0.01, degree=3, gamma=auto, kernel=linear; total time=   0.6s\n",
      "[CV] END C=10, coef0=0.01, degree=3, gamma=auto, kernel=poly; total time=   0.1s\n",
      "[CV] END C=10, coef0=0.01, degree=3, gamma=auto, kernel=linear; total time=   0.7s\n",
      "[CV] END C=10, coef0=0.01, degree=3, gamma=auto, kernel=linear; total time=   0.6s\n",
      "[CV] END C=10, coef0=0.01, degree=3, gamma=auto, kernel=poly; total time=   0.1s\n",
      "[CV] END C=10, coef0=0.01, degree=3, gamma=auto, kernel=poly; total time=   0.1s\n",
      "[CV] END .C=10, coef0=0.01, degree=3, gamma=auto, kernel=rbf; total time=   0.0s\n",
      "[CV] END C=10, coef0=0.01, degree=3, gamma=auto, kernel=poly; total time=   0.1s\n",
      "[CV] END .C=10, coef0=0.01, degree=3, gamma=auto, kernel=rbf; total time=   0.0s\n",
      "[CV] END .C=10, coef0=0.01, degree=3, gamma=auto, kernel=rbf; total time=   0.0s\n",
      "[CV] END C=10, coef0=0.01, degree=3, gamma=auto, kernel=poly; total time=   0.1s\n",
      "[CV] END .C=10, coef0=0.01, degree=3, gamma=auto, kernel=rbf; total time=   0.0s\n",
      "[CV] END .C=10, coef0=0.01, degree=3, gamma=auto, kernel=rbf; total time=   0.0s\n",
      "[CV] END C=10, coef0=0.01, degree=3, gamma=auto, kernel=sigmoid; total time=   0.1s\n",
      "[CV] END C=10, coef0=0.01, degree=3, gamma=auto, kernel=sigmoid; total time=   0.1s\n",
      "[CV] END C=10, coef0=0.01, degree=3, gamma=auto, kernel=sigmoid; total time=   0.1s\n",
      "[CV] END C=10, coef0=0.01, degree=3, gamma=auto, kernel=sigmoid; total time=   0.1s\n",
      "[CV] END C=10, coef0=0.01, degree=3, gamma=auto, kernel=sigmoid; total time=   0.1s\n",
      "[CV] END C=10, coef0=0.01, degree=3, gamma=auto, kernel=linear; total time=   0.6s\n",
      "[CV] END C=10, coef0=0.01, degree=3, gamma=scale, kernel=linear; total time=   0.5s\n",
      "[CV] END C=10, coef0=0.01, degree=3, gamma=scale, kernel=linear; total time=   0.6s\n",
      "[CV] END C=10, coef0=0.01, degree=3, gamma=scale, kernel=linear; total time=   0.6s\n",
      "[CV] END C=10, coef0=0.01, degree=3, gamma=scale, kernel=poly; total time=   0.1s\n",
      "[CV] END C=10, coef0=0.01, degree=3, gamma=scale, kernel=linear; total time=   0.7s\n",
      "[CV] END C=10, coef0=0.01, degree=3, gamma=scale, kernel=poly; total time=   0.1s\n",
      "[CV] END C=10, coef0=0.01, degree=3, gamma=scale, kernel=poly; total time=   0.1s\n",
      "[CV] END C=10, coef0=0.01, degree=3, gamma=scale, kernel=poly; total time=   0.1s\n",
      "[CV] END C=10, coef0=0.01, degree=3, gamma=scale, kernel=rbf; total time=   0.0s\n",
      "[CV] END C=10, coef0=0.01, degree=3, gamma=scale, kernel=poly; total time=   0.1s\n",
      "[CV] END C=10, coef0=0.01, degree=3, gamma=scale, kernel=rbf; total time=   0.0s\n",
      "[CV] END C=10, coef0=0.01, degree=3, gamma=scale, kernel=rbf; total time=   0.0s\n",
      "[CV] END C=10, coef0=0.01, degree=3, gamma=scale, kernel=rbf; total time=   0.0s\n",
      "[CV] END C=10, coef0=0.01, degree=3, gamma=scale, kernel=rbf; total time=   0.0s\n",
      "[CV] END C=10, coef0=0.01, degree=3, gamma=scale, kernel=sigmoid; total time=   0.1s\n",
      "[CV] END C=10, coef0=0.01, degree=3, gamma=scale, kernel=sigmoid; total time=   0.1s\n",
      "[CV] END C=10, coef0=0.01, degree=3, gamma=scale, kernel=sigmoid; total time=   0.1s\n",
      "[CV] END C=10, coef0=0.01, degree=3, gamma=scale, kernel=linear; total time=   0.5s\n",
      "[CV] END C=10, coef0=0.01, degree=3, gamma=scale, kernel=sigmoid; total time=   0.1s\n",
      "[CV] END C=10, coef0=0.01, degree=3, gamma=scale, kernel=sigmoid; total time=   0.1s\n",
      "[CV] END C=10, coef0=0.01, degree=8, gamma=auto, kernel=linear; total time=   0.5s\n",
      "[CV] END C=10, coef0=0.01, degree=8, gamma=auto, kernel=linear; total time=   0.6s\n",
      "[CV] END C=10, coef0=0.01, degree=8, gamma=auto, kernel=linear; total time=   0.6s\n",
      "[CV] END C=10, coef0=0.01, degree=8, gamma=auto, kernel=linear; total time=   0.7s\n",
      "[CV] END C=10, coef0=0.01, degree=8, gamma=auto, kernel=poly; total time=   0.2s\n",
      "[CV] END C=10, coef0=0.01, degree=8, gamma=auto, kernel=poly; total time=   0.1s\n",
      "[CV] END C=10, coef0=0.01, degree=8, gamma=auto, kernel=poly; total time=   0.2s\n",
      "[CV] END .C=10, coef0=0.01, degree=8, gamma=auto, kernel=rbf; total time=   0.0s\n",
      "[CV] END .C=10, coef0=0.01, degree=8, gamma=auto, kernel=rbf; total time=   0.0s\n",
      "[CV] END C=10, coef0=0.01, degree=8, gamma=auto, kernel=poly; total time=   0.2s\n",
      "[CV] END .C=10, coef0=0.01, degree=8, gamma=auto, kernel=rbf; total time=   0.0s\n",
      "[CV] END C=10, coef0=0.01, degree=8, gamma=auto, kernel=linear; total time=   0.5s\n",
      "[CV] END .C=10, coef0=0.01, degree=8, gamma=auto, kernel=rbf; total time=   0.0s\n",
      "[CV] END .C=10, coef0=0.01, degree=8, gamma=auto, kernel=rbf; total time=   0.0s\n",
      "[CV] END C=10, coef0=0.01, degree=8, gamma=auto, kernel=poly; total time=   0.2s\n",
      "[CV] END C=10, coef0=0.01, degree=8, gamma=auto, kernel=sigmoid; total time=   0.1s\n",
      "[CV] END C=10, coef0=0.01, degree=8, gamma=auto, kernel=sigmoid; total time=   0.1s\n",
      "[CV] END C=10, coef0=0.01, degree=8, gamma=auto, kernel=sigmoid; total time=   0.1s\n",
      "[CV] END C=10, coef0=0.01, degree=8, gamma=auto, kernel=sigmoid; total time=   0.1s\n",
      "[CV] END C=10, coef0=0.01, degree=8, gamma=auto, kernel=sigmoid; total time=   0.1s\n",
      "[CV] END C=10, coef0=0.01, degree=8, gamma=scale, kernel=linear; total time=   0.5s\n",
      "[CV] END C=10, coef0=0.01, degree=8, gamma=scale, kernel=linear; total time=   0.6s\n",
      "[CV] END C=10, coef0=0.01, degree=8, gamma=scale, kernel=linear; total time=   0.6s\n",
      "[CV] END C=10, coef0=0.01, degree=8, gamma=scale, kernel=linear; total time=   0.7s\n",
      "[CV] END C=10, coef0=0.01, degree=8, gamma=scale, kernel=poly; total time=   0.1s\n",
      "[CV] END C=10, coef0=0.01, degree=8, gamma=scale, kernel=poly; total time=   0.2s\n",
      "[CV] END C=10, coef0=0.01, degree=8, gamma=scale, kernel=poly; total time=   0.1s\n",
      "[CV] END C=10, coef0=0.01, degree=8, gamma=scale, kernel=poly; total time=   0.1s\n",
      "[CV] END C=10, coef0=0.01, degree=8, gamma=scale, kernel=rbf; total time=   0.0s\n",
      "[CV] END C=10, coef0=0.01, degree=8, gamma=scale, kernel=rbf; total time=   0.0s\n",
      "[CV] END C=10, coef0=0.01, degree=8, gamma=scale, kernel=rbf; total time=   0.0s\n",
      "[CV] END C=10, coef0=0.01, degree=8, gamma=scale, kernel=rbf; total time=   0.0s\n",
      "[CV] END C=10, coef0=0.01, degree=8, gamma=scale, kernel=poly; total time=   0.1s\n",
      "[CV] END C=10, coef0=0.01, degree=8, gamma=scale, kernel=rbf; total time=   0.0s\n",
      "[CV] END C=10, coef0=0.01, degree=8, gamma=scale, kernel=sigmoid; total time=   0.1s\n",
      "[CV] END C=10, coef0=0.01, degree=8, gamma=scale, kernel=sigmoid; total time=   0.1s\n",
      "[CV] END C=10, coef0=0.01, degree=8, gamma=scale, kernel=sigmoid; total time=   0.1s\n",
      "[CV] END C=10, coef0=0.01, degree=8, gamma=scale, kernel=linear; total time=   0.6s\n",
      "[CV] END C=10, coef0=0.01, degree=8, gamma=scale, kernel=sigmoid; total time=   0.1s\n",
      "[CV] END C=10, coef0=0.01, degree=8, gamma=scale, kernel=sigmoid; total time=   0.1s\n",
      "[CV] END C=10, coef0=10, degree=3, gamma=auto, kernel=linear; total time=   0.5s\n",
      "[CV] END C=10, coef0=10, degree=3, gamma=auto, kernel=linear; total time=   0.6s\n",
      "[CV] END C=10, coef0=10, degree=3, gamma=auto, kernel=linear; total time=   0.6s\n",
      "[CV] END C=10, coef0=10, degree=3, gamma=auto, kernel=linear; total time=   0.7s\n",
      "[CV] END C=10, coef0=10, degree=3, gamma=auto, kernel=linear; total time=   0.6s\n",
      "[CV] END ..C=10, coef0=10, degree=3, gamma=auto, kernel=poly; total time=   4.5s\n",
      "[CV] END ..C=10, coef0=10, degree=3, gamma=auto, kernel=poly; total time=   6.3s\n",
      "[CV] END ...C=10, coef0=10, degree=3, gamma=auto, kernel=rbf; total time=   0.0s\n",
      "[CV] END ...C=10, coef0=10, degree=3, gamma=auto, kernel=rbf; total time=   0.0s\n",
      "[CV] END ...C=10, coef0=10, degree=3, gamma=auto, kernel=rbf; total time=   0.0s\n",
      "[CV] END ...C=10, coef0=10, degree=3, gamma=auto, kernel=rbf; total time=   0.0s\n",
      "[CV] END ...C=10, coef0=10, degree=3, gamma=auto, kernel=rbf; total time=   0.0s\n",
      "[CV] END C=10, coef0=10, degree=3, gamma=auto, kernel=sigmoid; total time=   0.0s\n",
      "[CV] END C=10, coef0=10, degree=3, gamma=auto, kernel=sigmoid; total time=   0.0s\n",
      "[CV] END C=10, coef0=10, degree=3, gamma=auto, kernel=sigmoid; total time=   0.0s\n",
      "[CV] END C=10, coef0=10, degree=3, gamma=auto, kernel=sigmoid; total time=   0.0s\n",
      "[CV] END C=10, coef0=10, degree=3, gamma=auto, kernel=sigmoid; total time=   0.0s\n",
      "[CV] END ..C=10, coef0=10, degree=3, gamma=auto, kernel=poly; total time=   6.8s\n",
      "[CV] END C=10, coef0=10, degree=3, gamma=scale, kernel=linear; total time=   0.5s\n",
      "[CV] END ..C=10, coef0=10, degree=3, gamma=auto, kernel=poly; total time=   6.9s\n",
      "[CV] END C=10, coef0=10, degree=3, gamma=scale, kernel=linear; total time=   0.7s\n",
      "[CV] END C=10, coef0=10, degree=3, gamma=scale, kernel=linear; total time=   0.6s\n",
      "[CV] END C=10, coef0=10, degree=3, gamma=scale, kernel=linear; total time=   0.6s\n",
      "[CV] END C=10, coef0=10, degree=3, gamma=scale, kernel=linear; total time=   0.5s\n",
      "[CV] END ..C=10, coef0=10, degree=3, gamma=auto, kernel=poly; total time=   4.6s\n",
      "[CV] END .C=10, coef0=10, degree=3, gamma=scale, kernel=poly; total time=   4.0s\n",
      "[CV] END .C=10, coef0=10, degree=3, gamma=scale, kernel=poly; total time=   5.9s\n",
      "[CV] END ..C=10, coef0=10, degree=3, gamma=scale, kernel=rbf; total time=   0.0s\n",
      "[CV] END ..C=10, coef0=10, degree=3, gamma=scale, kernel=rbf; total time=   0.0s\n",
      "[CV] END ..C=10, coef0=10, degree=3, gamma=scale, kernel=rbf; total time=   0.0s\n",
      "[CV] END ..C=10, coef0=10, degree=3, gamma=scale, kernel=rbf; total time=   0.0s\n",
      "[CV] END ..C=10, coef0=10, degree=3, gamma=scale, kernel=rbf; total time=   0.0s\n",
      "[CV] END C=10, coef0=10, degree=3, gamma=scale, kernel=sigmoid; total time=   0.0s\n",
      "[CV] END C=10, coef0=10, degree=3, gamma=scale, kernel=sigmoid; total time=   0.0s\n",
      "[CV] END C=10, coef0=10, degree=3, gamma=scale, kernel=sigmoid; total time=   0.0s\n",
      "[CV] END C=10, coef0=10, degree=3, gamma=scale, kernel=sigmoid; total time=   0.0s\n",
      "[CV] END C=10, coef0=10, degree=3, gamma=scale, kernel=sigmoid; total time=   0.0s\n",
      "[CV] END C=10, coef0=10, degree=8, gamma=auto, kernel=linear; total time=   0.5s\n",
      "[CV] END .C=10, coef0=10, degree=3, gamma=scale, kernel=poly; total time=   7.3s\n",
      "[CV] END .C=10, coef0=10, degree=3, gamma=scale, kernel=poly; total time=   6.3s\n",
      "[CV] END C=10, coef0=10, degree=8, gamma=auto, kernel=linear; total time=   0.7s\n",
      "[CV] END C=10, coef0=10, degree=8, gamma=auto, kernel=linear; total time=   0.6s\n",
      "[CV] END C=10, coef0=10, degree=8, gamma=auto, kernel=linear; total time=   0.6s\n",
      "[CV] END C=10, coef0=10, degree=8, gamma=auto, kernel=linear; total time=   0.5s\n",
      "[CV] END .C=10, coef0=10, degree=3, gamma=scale, kernel=poly; total time=   4.6s\n",
      "[CV] END ..C=1, coef0=10, degree=8, gamma=scale, kernel=poly; total time=14.8min\n",
      "[CV] END ..C=5, coef0=10, degree=8, gamma=scale, kernel=poly; total time=14.9min\n",
      "[CV] END ...C=1, coef0=10, degree=8, gamma=auto, kernel=poly; total time=23.3min\n",
      "[CV] END ..C=10, coef0=10, degree=8, gamma=auto, kernel=poly; total time=24.7min\n",
      "[CV] END ..C=1, coef0=10, degree=8, gamma=scale, kernel=poly; total time=25.3min\n",
      "[CV] END ..C=10, coef0=10, degree=8, gamma=auto, kernel=poly; total time=25.8min\n",
      "[CV] END ...C=10, coef0=10, degree=8, gamma=auto, kernel=rbf; total time=   0.0s\n",
      "[CV] END ...C=10, coef0=10, degree=8, gamma=auto, kernel=rbf; total time=   0.0s\n",
      "[CV] END ...C=10, coef0=10, degree=8, gamma=auto, kernel=rbf; total time=   0.0s\n",
      "[CV] END ...C=10, coef0=10, degree=8, gamma=auto, kernel=rbf; total time=   0.0s\n",
      "[CV] END ...C=10, coef0=10, degree=8, gamma=auto, kernel=rbf; total time=   0.0s\n",
      "[CV] END C=10, coef0=10, degree=8, gamma=auto, kernel=sigmoid; total time=   0.0s\n",
      "[CV] END C=10, coef0=10, degree=8, gamma=auto, kernel=sigmoid; total time=   0.0s\n",
      "[CV] END C=10, coef0=10, degree=8, gamma=auto, kernel=sigmoid; total time=   0.0s\n",
      "[CV] END C=10, coef0=10, degree=8, gamma=auto, kernel=sigmoid; total time=   0.0s\n",
      "[CV] END C=10, coef0=10, degree=8, gamma=auto, kernel=sigmoid; total time=   0.0s\n",
      "[CV] END C=10, coef0=10, degree=8, gamma=scale, kernel=linear; total time=   0.5s\n",
      "[CV] END C=10, coef0=10, degree=8, gamma=scale, kernel=linear; total time=   0.7s\n",
      "[CV] END C=10, coef0=10, degree=8, gamma=scale, kernel=linear; total time=   0.6s\n",
      "[CV] END C=10, coef0=10, degree=8, gamma=scale, kernel=linear; total time=   0.6s\n",
      "[CV] END C=10, coef0=10, degree=8, gamma=scale, kernel=linear; total time=   0.6s\n",
      "[CV] END ..C=10, coef0=10, degree=8, gamma=auto, kernel=poly; total time=26.8min\n",
      "[CV] END ...C=5, coef0=10, degree=8, gamma=auto, kernel=poly; total time=27.3min\n",
      "[CV] END ...C=1, coef0=10, degree=8, gamma=auto, kernel=poly; total time=30.0min\n",
      "[CV] END ...C=5, coef0=10, degree=8, gamma=auto, kernel=poly; total time=31.5min\n",
      "[CV] END ..C=5, coef0=10, degree=8, gamma=scale, kernel=poly; total time=34.4min\n",
      "[CV] END ..C=10, coef0=10, degree=8, gamma=auto, kernel=poly; total time=41.7min\n",
      "[CV] END ..C=1, coef0=10, degree=8, gamma=scale, kernel=poly; total time=22.2min\n",
      "[CV] END ...C=1, coef0=10, degree=8, gamma=scale, kernel=rbf; total time=   0.0s\n",
      "[CV] END ...C=1, coef0=10, degree=8, gamma=scale, kernel=rbf; total time=   0.0s\n",
      "[CV] END ...C=1, coef0=10, degree=8, gamma=auto, kernel=poly; total time=25.4min\n",
      "[CV] END ....C=1, coef0=10, degree=8, gamma=auto, kernel=rbf; total time=   0.0s\n",
      "[CV] END ....C=1, coef0=10, degree=8, gamma=auto, kernel=rbf; total time=   0.0s\n",
      "[CV] END ...C=1, coef0=10, degree=8, gamma=auto, kernel=poly; total time=19.7min\n",
      "[CV] END ..C=5, coef0=10, degree=8, gamma=scale, kernel=poly; total time=15.9min\n",
      "[CV] END ..C=10, coef0=10, degree=8, gamma=auto, kernel=poly; total time=26.4min\n",
      "[CV] END ..C=10, coef0=10, degree=8, gamma=scale, kernel=rbf; total time=   0.0s\n",
      "[CV] END ..C=10, coef0=10, degree=8, gamma=scale, kernel=rbf; total time=   0.0s\n",
      "[CV] END ..C=10, coef0=10, degree=8, gamma=scale, kernel=rbf; total time=   0.0s\n",
      "[CV] END ..C=10, coef0=10, degree=8, gamma=scale, kernel=rbf; total time=   0.0s\n",
      "[CV] END ..C=10, coef0=10, degree=8, gamma=scale, kernel=rbf; total time=   0.0s\n",
      "[CV] END C=10, coef0=10, degree=8, gamma=scale, kernel=sigmoid; total time=   0.0s\n",
      "[CV] END C=10, coef0=10, degree=8, gamma=scale, kernel=sigmoid; total time=   0.0s\n",
      "[CV] END C=10, coef0=10, degree=8, gamma=scale, kernel=sigmoid; total time=   0.0s\n",
      "[CV] END C=10, coef0=10, degree=8, gamma=scale, kernel=sigmoid; total time=   0.0s\n",
      "[CV] END C=10, coef0=10, degree=8, gamma=scale, kernel=sigmoid; total time=   0.0s\n",
      "[CV] END C=10, coef0=0.5, degree=3, gamma=auto, kernel=linear; total time=   0.5s\n",
      "[CV] END C=10, coef0=0.5, degree=3, gamma=auto, kernel=linear; total time=   0.7s\n",
      "[CV] END C=10, coef0=0.5, degree=3, gamma=auto, kernel=linear; total time=   0.6s\n",
      "[CV] END C=10, coef0=0.5, degree=3, gamma=auto, kernel=linear; total time=   0.6s\n",
      "[CV] END C=10, coef0=0.5, degree=3, gamma=auto, kernel=linear; total time=   0.5s\n",
      "[CV] END .C=10, coef0=0.5, degree=3, gamma=auto, kernel=poly; total time=   0.1s\n",
      "[CV] END .C=10, coef0=0.5, degree=3, gamma=auto, kernel=poly; total time=   0.2s\n",
      "[CV] END .C=10, coef0=0.5, degree=3, gamma=auto, kernel=poly; total time=   0.1s\n",
      "[CV] END .C=10, coef0=0.5, degree=3, gamma=auto, kernel=poly; total time=   0.1s\n",
      "[CV] END .C=10, coef0=0.5, degree=3, gamma=auto, kernel=poly; total time=   0.1s\n",
      "[CV] END ..C=10, coef0=0.5, degree=3, gamma=auto, kernel=rbf; total time=   0.0s\n",
      "[CV] END ..C=10, coef0=0.5, degree=3, gamma=auto, kernel=rbf; total time=   0.0s\n",
      "[CV] END ..C=10, coef0=0.5, degree=3, gamma=auto, kernel=rbf; total time=   0.0s\n",
      "[CV] END ..C=10, coef0=0.5, degree=3, gamma=auto, kernel=rbf; total time=   0.0s\n",
      "[CV] END ..C=10, coef0=0.5, degree=3, gamma=auto, kernel=rbf; total time=   0.0s\n",
      "[CV] END C=10, coef0=0.5, degree=3, gamma=auto, kernel=sigmoid; total time=   0.1s\n",
      "[CV] END C=10, coef0=0.5, degree=3, gamma=auto, kernel=sigmoid; total time=   0.1s\n",
      "[CV] END C=10, coef0=0.5, degree=3, gamma=auto, kernel=sigmoid; total time=   0.1s\n",
      "[CV] END C=10, coef0=0.5, degree=3, gamma=auto, kernel=sigmoid; total time=   0.1s\n",
      "[CV] END C=10, coef0=0.5, degree=3, gamma=auto, kernel=sigmoid; total time=   0.1s\n",
      "[CV] END C=10, coef0=0.5, degree=3, gamma=scale, kernel=linear; total time=   0.6s\n",
      "[CV] END C=10, coef0=0.5, degree=3, gamma=scale, kernel=linear; total time=   0.7s\n",
      "[CV] END C=10, coef0=0.5, degree=3, gamma=scale, kernel=linear; total time=   0.6s\n",
      "[CV] END C=10, coef0=0.5, degree=3, gamma=scale, kernel=linear; total time=   0.6s\n",
      "[CV] END C=10, coef0=0.5, degree=3, gamma=scale, kernel=linear; total time=   0.6s\n",
      "[CV] END C=10, coef0=0.5, degree=3, gamma=scale, kernel=poly; total time=   0.1s\n",
      "[CV] END C=10, coef0=0.5, degree=3, gamma=scale, kernel=poly; total time=   0.2s\n",
      "[CV] END C=10, coef0=0.5, degree=3, gamma=scale, kernel=poly; total time=   0.1s\n",
      "[CV] END C=10, coef0=0.5, degree=3, gamma=scale, kernel=poly; total time=   0.1s\n",
      "[CV] END C=10, coef0=0.5, degree=3, gamma=scale, kernel=poly; total time=   0.1s\n",
      "[CV] END .C=10, coef0=0.5, degree=3, gamma=scale, kernel=rbf; total time=   0.0s\n",
      "[CV] END .C=10, coef0=0.5, degree=3, gamma=scale, kernel=rbf; total time=   0.0s\n",
      "[CV] END .C=10, coef0=0.5, degree=3, gamma=scale, kernel=rbf; total time=   0.0s\n",
      "[CV] END .C=10, coef0=0.5, degree=3, gamma=scale, kernel=rbf; total time=   0.0s\n",
      "[CV] END .C=10, coef0=0.5, degree=3, gamma=scale, kernel=rbf; total time=   0.0s\n",
      "[CV] END C=10, coef0=0.5, degree=3, gamma=scale, kernel=sigmoid; total time=   0.1s\n",
      "[CV] END C=10, coef0=0.5, degree=3, gamma=scale, kernel=sigmoid; total time=   0.1s\n",
      "[CV] END C=10, coef0=0.5, degree=3, gamma=scale, kernel=sigmoid; total time=   0.1s\n",
      "[CV] END C=10, coef0=0.5, degree=3, gamma=scale, kernel=sigmoid; total time=   0.1s\n",
      "[CV] END C=10, coef0=0.5, degree=3, gamma=scale, kernel=sigmoid; total time=   0.1s\n",
      "[CV] END C=10, coef0=0.5, degree=8, gamma=auto, kernel=linear; total time=   0.5s\n",
      "[CV] END C=10, coef0=0.5, degree=8, gamma=auto, kernel=linear; total time=   0.7s\n",
      "[CV] END C=10, coef0=0.5, degree=8, gamma=auto, kernel=linear; total time=   0.6s\n",
      "[CV] END C=10, coef0=0.5, degree=8, gamma=auto, kernel=linear; total time=   0.6s\n",
      "[CV] END C=10, coef0=0.5, degree=8, gamma=auto, kernel=linear; total time=   0.5s\n",
      "[CV] END .C=10, coef0=0.5, degree=8, gamma=auto, kernel=poly; total time=   0.3s\n",
      "[CV] END .C=10, coef0=0.5, degree=8, gamma=auto, kernel=poly; total time=   0.5s\n",
      "[CV] END .C=10, coef0=0.5, degree=8, gamma=auto, kernel=poly; total time=   0.4s\n",
      "[CV] END .C=10, coef0=0.5, degree=8, gamma=auto, kernel=poly; total time=   0.5s\n",
      "[CV] END .C=10, coef0=0.5, degree=8, gamma=auto, kernel=poly; total time=   0.5s\n",
      "[CV] END ..C=10, coef0=0.5, degree=8, gamma=auto, kernel=rbf; total time=   0.0s\n",
      "[CV] END ..C=10, coef0=0.5, degree=8, gamma=auto, kernel=rbf; total time=   0.0s\n",
      "[CV] END ..C=10, coef0=0.5, degree=8, gamma=auto, kernel=rbf; total time=   0.1s\n",
      "[CV] END ..C=10, coef0=0.5, degree=8, gamma=auto, kernel=rbf; total time=   0.0s\n",
      "[CV] END ..C=10, coef0=0.5, degree=8, gamma=auto, kernel=rbf; total time=   0.0s\n",
      "[CV] END C=10, coef0=0.5, degree=8, gamma=auto, kernel=sigmoid; total time=   0.1s\n",
      "[CV] END C=10, coef0=0.5, degree=8, gamma=auto, kernel=sigmoid; total time=   0.1s\n",
      "[CV] END C=10, coef0=0.5, degree=8, gamma=auto, kernel=sigmoid; total time=   0.1s\n",
      "[CV] END C=10, coef0=0.5, degree=8, gamma=auto, kernel=sigmoid; total time=   0.1s\n",
      "[CV] END C=10, coef0=0.5, degree=8, gamma=auto, kernel=sigmoid; total time=   0.1s\n",
      "[CV] END C=10, coef0=0.5, degree=8, gamma=scale, kernel=linear; total time=   0.5s\n",
      "[CV] END C=10, coef0=0.5, degree=8, gamma=scale, kernel=linear; total time=   0.7s\n",
      "[CV] END C=10, coef0=0.5, degree=8, gamma=scale, kernel=linear; total time=   0.6s\n",
      "[CV] END C=10, coef0=0.5, degree=8, gamma=scale, kernel=linear; total time=   0.6s\n",
      "[CV] END C=10, coef0=0.5, degree=8, gamma=scale, kernel=linear; total time=   0.6s\n",
      "[CV] END C=10, coef0=0.5, degree=8, gamma=scale, kernel=poly; total time=   0.3s\n",
      "[CV] END C=10, coef0=0.5, degree=8, gamma=scale, kernel=poly; total time=   0.5s\n",
      "[CV] END C=10, coef0=0.5, degree=8, gamma=scale, kernel=poly; total time=   0.4s\n",
      "[CV] END C=10, coef0=0.5, degree=8, gamma=scale, kernel=poly; total time=   0.6s\n",
      "[CV] END C=10, coef0=0.5, degree=8, gamma=scale, kernel=poly; total time=   0.4s\n",
      "[CV] END .C=10, coef0=0.5, degree=8, gamma=scale, kernel=rbf; total time=   0.0s\n",
      "[CV] END .C=10, coef0=0.5, degree=8, gamma=scale, kernel=rbf; total time=   0.0s\n",
      "[CV] END .C=10, coef0=0.5, degree=8, gamma=scale, kernel=rbf; total time=   0.0s\n",
      "[CV] END .C=10, coef0=0.5, degree=8, gamma=scale, kernel=rbf; total time=   0.0s\n",
      "[CV] END .C=10, coef0=0.5, degree=8, gamma=scale, kernel=rbf; total time=   0.0s\n",
      "[CV] END C=10, coef0=0.5, degree=8, gamma=scale, kernel=sigmoid; total time=   0.1s\n",
      "[CV] END C=10, coef0=0.5, degree=8, gamma=scale, kernel=sigmoid; total time=   0.1s\n",
      "[CV] END C=10, coef0=0.5, degree=8, gamma=scale, kernel=sigmoid; total time=   0.1s\n",
      "[CV] END C=10, coef0=0.5, degree=8, gamma=scale, kernel=sigmoid; total time=   0.1s\n",
      "[CV] END C=10, coef0=0.5, degree=8, gamma=scale, kernel=sigmoid; total time=   0.1s\n",
      "[CV] END .C=10, coef0=10, degree=8, gamma=scale, kernel=poly; total time=14.7min\n",
      "[CV] END .C=10, coef0=10, degree=8, gamma=scale, kernel=poly; total time=32.7min\n",
      "[CV] END ...C=5, coef0=10, degree=8, gamma=auto, kernel=poly; total time=29.8min\n",
      "[CV] END ....C=5, coef0=10, degree=8, gamma=auto, kernel=rbf; total time=   0.0s\n",
      "[CV] END ....C=5, coef0=10, degree=8, gamma=auto, kernel=rbf; total time=   0.0s\n",
      "[CV] END ...C=1, coef0=10, degree=8, gamma=auto, kernel=poly; total time=12.7min\n",
      "[CV] END ...C=5, coef0=10, degree=8, gamma=auto, kernel=poly; total time=43.1min\n",
      "[CV] END .C=10, coef0=10, degree=8, gamma=scale, kernel=poly; total time=25.0min\n",
      "[CV] END ..C=1, coef0=10, degree=8, gamma=scale, kernel=poly; total time=59.4min\n",
      "[CV] END .C=10, coef0=10, degree=8, gamma=scale, kernel=poly; total time=27.1min\n",
      "[CV] END .C=10, coef0=10, degree=8, gamma=scale, kernel=poly; total time=50.2min\n",
      "[CV] END ..C=5, coef0=10, degree=8, gamma=scale, kernel=poly; total time=29.1min\n",
      "[CV] END ..C=5, coef0=10, degree=8, gamma=scale, kernel=poly; total time=67.4min\n",
      "[CV] END ...C=5, coef0=10, degree=8, gamma=scale, kernel=rbf; total time=   0.0s\n",
      "[CV] END ...C=5, coef0=10, degree=8, gamma=scale, kernel=rbf; total time=   0.0s\n",
      "[CV] END ..C=1, coef0=10, degree=8, gamma=scale, kernel=poly; total time=10.1min\n",
      "[CV] END ...C=5, coef0=10, degree=8, gamma=auto, kernel=poly; total time=14.4min\n"
     ]
    },
    {
     "data": {
      "text/html": [
       "<style>#sk-container-id-1 {color: black;}#sk-container-id-1 pre{padding: 0;}#sk-container-id-1 div.sk-toggleable {background-color: white;}#sk-container-id-1 label.sk-toggleable__label {cursor: pointer;display: block;width: 100%;margin-bottom: 0;padding: 0.3em;box-sizing: border-box;text-align: center;}#sk-container-id-1 label.sk-toggleable__label-arrow:before {content: \"▸\";float: left;margin-right: 0.25em;color: #696969;}#sk-container-id-1 label.sk-toggleable__label-arrow:hover:before {color: black;}#sk-container-id-1 div.sk-estimator:hover label.sk-toggleable__label-arrow:before {color: black;}#sk-container-id-1 div.sk-toggleable__content {max-height: 0;max-width: 0;overflow: hidden;text-align: left;background-color: #f0f8ff;}#sk-container-id-1 div.sk-toggleable__content pre {margin: 0.2em;color: black;border-radius: 0.25em;background-color: #f0f8ff;}#sk-container-id-1 input.sk-toggleable__control:checked~div.sk-toggleable__content {max-height: 200px;max-width: 100%;overflow: auto;}#sk-container-id-1 input.sk-toggleable__control:checked~label.sk-toggleable__label-arrow:before {content: \"▾\";}#sk-container-id-1 div.sk-estimator input.sk-toggleable__control:checked~label.sk-toggleable__label {background-color: #d4ebff;}#sk-container-id-1 div.sk-label input.sk-toggleable__control:checked~label.sk-toggleable__label {background-color: #d4ebff;}#sk-container-id-1 input.sk-hidden--visually {border: 0;clip: rect(1px 1px 1px 1px);clip: rect(1px, 1px, 1px, 1px);height: 1px;margin: -1px;overflow: hidden;padding: 0;position: absolute;width: 1px;}#sk-container-id-1 div.sk-estimator {font-family: monospace;background-color: #f0f8ff;border: 1px dotted black;border-radius: 0.25em;box-sizing: border-box;margin-bottom: 0.5em;}#sk-container-id-1 div.sk-estimator:hover {background-color: #d4ebff;}#sk-container-id-1 div.sk-parallel-item::after {content: \"\";width: 100%;border-bottom: 1px solid gray;flex-grow: 1;}#sk-container-id-1 div.sk-label:hover label.sk-toggleable__label {background-color: #d4ebff;}#sk-container-id-1 div.sk-serial::before {content: \"\";position: absolute;border-left: 1px solid gray;box-sizing: border-box;top: 0;bottom: 0;left: 50%;z-index: 0;}#sk-container-id-1 div.sk-serial {display: flex;flex-direction: column;align-items: center;background-color: white;padding-right: 0.2em;padding-left: 0.2em;position: relative;}#sk-container-id-1 div.sk-item {position: relative;z-index: 1;}#sk-container-id-1 div.sk-parallel {display: flex;align-items: stretch;justify-content: center;background-color: white;position: relative;}#sk-container-id-1 div.sk-item::before, #sk-container-id-1 div.sk-parallel-item::before {content: \"\";position: absolute;border-left: 1px solid gray;box-sizing: border-box;top: 0;bottom: 0;left: 50%;z-index: -1;}#sk-container-id-1 div.sk-parallel-item {display: flex;flex-direction: column;z-index: 1;position: relative;background-color: white;}#sk-container-id-1 div.sk-parallel-item:first-child::after {align-self: flex-end;width: 50%;}#sk-container-id-1 div.sk-parallel-item:last-child::after {align-self: flex-start;width: 50%;}#sk-container-id-1 div.sk-parallel-item:only-child::after {width: 0;}#sk-container-id-1 div.sk-dashed-wrapped {border: 1px dashed gray;margin: 0 0.4em 0.5em 0.4em;box-sizing: border-box;padding-bottom: 0.4em;background-color: white;}#sk-container-id-1 div.sk-label label {font-family: monospace;font-weight: bold;display: inline-block;line-height: 1.2em;}#sk-container-id-1 div.sk-label-container {text-align: center;}#sk-container-id-1 div.sk-container {/* jupyter's `normalize.less` sets `[hidden] { display: none; }` but bootstrap.min.css set `[hidden] { display: none !important; }` so we also need the `!important` here to be able to override the default hidden behavior on the sphinx rendered scikit-learn.org. See: https://github.com/scikit-learn/scikit-learn/issues/21755 */display: inline-block !important;position: relative;}#sk-container-id-1 div.sk-text-repr-fallback {display: none;}</style><div id=\"sk-container-id-1\" class=\"sk-top-container\"><div class=\"sk-text-repr-fallback\"><pre>GridSearchCV(estimator=SVR(), n_jobs=-1,\n",
       "             param_grid={&#x27;C&#x27;: [1, 5, 10], &#x27;coef0&#x27;: [0.01, 10, 0.5],\n",
       "                         &#x27;degree&#x27;: [3, 8], &#x27;gamma&#x27;: (&#x27;auto&#x27;, &#x27;scale&#x27;),\n",
       "                         &#x27;kernel&#x27;: (&#x27;linear&#x27;, &#x27;poly&#x27;, &#x27;rbf&#x27;, &#x27;sigmoid&#x27;)},\n",
       "             verbose=2)</pre><b>In a Jupyter environment, please rerun this cell to show the HTML representation or trust the notebook. <br />On GitHub, the HTML representation is unable to render, please try loading this page with nbviewer.org.</b></div><div class=\"sk-container\" hidden><div class=\"sk-item sk-dashed-wrapped\"><div class=\"sk-label-container\"><div class=\"sk-label sk-toggleable\"><input class=\"sk-toggleable__control sk-hidden--visually\" id=\"sk-estimator-id-1\" type=\"checkbox\" ><label for=\"sk-estimator-id-1\" class=\"sk-toggleable__label sk-toggleable__label-arrow\">GridSearchCV</label><div class=\"sk-toggleable__content\"><pre>GridSearchCV(estimator=SVR(), n_jobs=-1,\n",
       "             param_grid={&#x27;C&#x27;: [1, 5, 10], &#x27;coef0&#x27;: [0.01, 10, 0.5],\n",
       "                         &#x27;degree&#x27;: [3, 8], &#x27;gamma&#x27;: (&#x27;auto&#x27;, &#x27;scale&#x27;),\n",
       "                         &#x27;kernel&#x27;: (&#x27;linear&#x27;, &#x27;poly&#x27;, &#x27;rbf&#x27;, &#x27;sigmoid&#x27;)},\n",
       "             verbose=2)</pre></div></div></div><div class=\"sk-parallel\"><div class=\"sk-parallel-item\"><div class=\"sk-item\"><div class=\"sk-label-container\"><div class=\"sk-label sk-toggleable\"><input class=\"sk-toggleable__control sk-hidden--visually\" id=\"sk-estimator-id-2\" type=\"checkbox\" ><label for=\"sk-estimator-id-2\" class=\"sk-toggleable__label sk-toggleable__label-arrow\">estimator: SVR</label><div class=\"sk-toggleable__content\"><pre>SVR()</pre></div></div></div><div class=\"sk-serial\"><div class=\"sk-item\"><div class=\"sk-estimator sk-toggleable\"><input class=\"sk-toggleable__control sk-hidden--visually\" id=\"sk-estimator-id-3\" type=\"checkbox\" ><label for=\"sk-estimator-id-3\" class=\"sk-toggleable__label sk-toggleable__label-arrow\">SVR</label><div class=\"sk-toggleable__content\"><pre>SVR()</pre></div></div></div></div></div></div></div></div></div></div>"
      ],
      "text/plain": [
       "GridSearchCV(estimator=SVR(), n_jobs=-1,\n",
       "             param_grid={'C': [1, 5, 10], 'coef0': [0.01, 10, 0.5],\n",
       "                         'degree': [3, 8], 'gamma': ('auto', 'scale'),\n",
       "                         'kernel': ('linear', 'poly', 'rbf', 'sigmoid')},\n",
       "             verbose=2)"
      ]
     },
     "execution_count": 24,
     "metadata": {},
     "output_type": "execute_result"
    }
   ],
   "source": [
    "grids.fit(X_train_complete_scaled,y_train_complete_scaled.ravel())"
   ]
  },
  {
   "cell_type": "code",
   "execution_count": 37,
   "metadata": {},
   "outputs": [],
   "source": [
    "results_df = pd.read_feather('gridsearch_results.feather')"
   ]
  },
  {
   "cell_type": "code",
   "execution_count": 53,
   "metadata": {},
   "outputs": [
    {
     "data": {
      "text/plain": [
       "mean_fit_time                                                 5.817711\n",
       "std_fit_time                                                  1.061846\n",
       "mean_score_time                                               0.002849\n",
       "std_score_time                                                0.000045\n",
       "param_C                                                             10\n",
       "param_coef0                                                         10\n",
       "param_degree                                                         3\n",
       "param_gamma                                                       auto\n",
       "param_kernel                                                      poly\n",
       "params               {'C': 10, 'coef0': 10, 'degree': 3, 'gamma': '...\n",
       "split0_test_score                                             0.785462\n",
       "split1_test_score                                             0.764952\n",
       "split2_test_score                                             0.837056\n",
       "split3_test_score                                             0.771942\n",
       "split4_test_score                                             0.904921\n",
       "mean_test_score                                               0.812866\n",
       "std_test_score                                                0.052499\n",
       "rank_test_score                                                      1\n",
       "Name: 113, dtype: object"
      ]
     },
     "execution_count": 53,
     "metadata": {},
     "output_type": "execute_result"
    }
   ],
   "source": [
    "results_df.sort_values(by='rank_test_score').iloc[0]"
   ]
  },
  {
   "cell_type": "code",
   "execution_count": 59,
   "metadata": {},
   "outputs": [
    {
     "name": "stdout",
     "output_type": "stream",
     "text": [
      "1326.0161044678691\n"
     ]
    }
   ],
   "source": [
    "y_train_complete_shaped = y_train_complete.to_numpy().reshape(-1,1)\n",
    "X_train_complete_scaled = StdS_X.fit_transform(X_train_complete)\n",
    "y_train_complete_scaled = StdS_y.fit_transform(y_train_complete_shaped)\n",
    "regressor_complete = SVR(C=10, coef0=10, gamma='auto', kernel='poly', degree=3)\n",
    "regressor_complete.fit(X_train_complete_scaled,y_train_complete_scaled.ravel())\n",
    "pred_complete = StdS_y.inverse_transform(regressor_complete.predict(StdS_X.transform(X_test_complete)).reshape(-1,1))\n",
    "RMSE_complete = mean_squared_error(y_test_complete,pred_complete,squared=False)\n",
    "print(RMSE_complete)"
   ]
  },
  {
   "cell_type": "code",
   "execution_count": 21,
   "metadata": {},
   "outputs": [
    {
     "data": {
      "image/png": "[encoded data removed]",
      "text/plain": [
       "<Figure size 2000x480 with 1 Axes>"
      ]
     },
     "metadata": {},
     "output_type": "display_data"
    }
   ],
   "source": [
    "fig, ax = plt.subplots()\n",
    "\n",
    "ax.scatter(X_test_complete['dt'], pred_complete, color='#ffa66f', label=\"Predicted\")\n",
    "ax.scatter(X_test_complete['dt'], y_test_complete, color='#073763', label=\"Actual\")\n",
    "legend = ax.legend(loc='upper right')\n",
    "# ax.bar(hours, pred_complete)\n",
    "fig.set_figwidth(20)\n",
    "# plt.xticks(hours)\n",
    "plt.ylabel(\"Power\")\n",
    "plt.xlabel(\"Timestamp\")\n",
    "plt.show()"
   ]
  },
  {
   "cell_type": "markdown",
   "metadata": {},
   "source": [
    "#### Reduced Data\n",
    "- Reduced Data RMSE: 1459.8550018116057"
   ]
  },
  {
   "cell_type": "code",
   "execution_count": 62,
   "metadata": {},
   "outputs": [
    {
     "name": "stdout",
     "output_type": "stream",
     "text": [
      "1459.8550018116057\n"
     ]
    }
   ],
   "source": [
    "y_train_reduced_shaped = y_train_reduced.to_numpy().reshape(-1,1)\n",
    "X_train_reduced_scaled = StdS_X.fit_transform(X_train_reduced)\n",
    "y_train_reduced_scaled = StdS_y.fit_transform(y_train_reduced_shaped)\n",
    "regressor_reduced = SVR(kernel='rbf')\n",
    "regressor_reduced.fit(X_train_reduced_scaled,y_train_reduced_scaled.ravel())\n",
    "pred_reduced = StdS_y.inverse_transform(regressor_reduced.predict(StdS_X.transform(X_test_reduced)).reshape(-1,1))\n",
    "RMSE_reduced = mean_squared_error(y_test_reduced,pred_reduced,squared=False)\n",
    "print(RMSE_reduced)"
   ]
  },
  {
   "cell_type": "code",
   "execution_count": 63,
   "metadata": {},
   "outputs": [
    {
     "data": {
      "image/png": "[encoded data removed]",
      "text/plain": [
       "<Figure size 640x480 with 1 Axes>"
      ]
     },
     "metadata": {},
     "output_type": "display_data"
    }
   ],
   "source": [
    "plt.scatter(x=X_test_reduced['dt'], y=pred_complete, color='red')\n",
    "plt.scatter(x=X_test_reduced['dt'], y=y_test_complete, color='blue')\n",
    "plt.show()"
   ]
  },
  {
   "cell_type": "markdown",
   "metadata": {},
   "source": [
    "## Model Evaluation"
   ]
  },
  {
   "cell_type": "markdown",
   "metadata": {},
   "source": [
    "### Linear Regression all data\n",
    "\n",
    "- RMSE: 1736.311531009354"
   ]
  },
  {
   "cell_type": "code",
   "execution_count": 75,
   "metadata": {},
   "outputs": [
    {
     "data": {
      "text/html": [
       "<style>#sk-container-id-5 {color: black;}#sk-container-id-5 pre{padding: 0;}#sk-container-id-5 div.sk-toggleable {background-color: white;}#sk-container-id-5 label.sk-toggleable__label {cursor: pointer;display: block;width: 100%;margin-bottom: 0;padding: 0.3em;box-sizing: border-box;text-align: center;}#sk-container-id-5 label.sk-toggleable__label-arrow:before {content: \"▸\";float: left;margin-right: 0.25em;color: #696969;}#sk-container-id-5 label.sk-toggleable__label-arrow:hover:before {color: black;}#sk-container-id-5 div.sk-estimator:hover label.sk-toggleable__label-arrow:before {color: black;}#sk-container-id-5 div.sk-toggleable__content {max-height: 0;max-width: 0;overflow: hidden;text-align: left;background-color: #f0f8ff;}#sk-container-id-5 div.sk-toggleable__content pre {margin: 0.2em;color: black;border-radius: 0.25em;background-color: #f0f8ff;}#sk-container-id-5 input.sk-toggleable__control:checked~div.sk-toggleable__content {max-height: 200px;max-width: 100%;overflow: auto;}#sk-container-id-5 input.sk-toggleable__control:checked~label.sk-toggleable__label-arrow:before {content: \"▾\";}#sk-container-id-5 div.sk-estimator input.sk-toggleable__control:checked~label.sk-toggleable__label {background-color: #d4ebff;}#sk-container-id-5 div.sk-label input.sk-toggleable__control:checked~label.sk-toggleable__label {background-color: #d4ebff;}#sk-container-id-5 input.sk-hidden--visually {border: 0;clip: rect(1px 1px 1px 1px);clip: rect(1px, 1px, 1px, 1px);height: 1px;margin: -1px;overflow: hidden;padding: 0;position: absolute;width: 1px;}#sk-container-id-5 div.sk-estimator {font-family: monospace;background-color: #f0f8ff;border: 1px dotted black;border-radius: 0.25em;box-sizing: border-box;margin-bottom: 0.5em;}#sk-container-id-5 div.sk-estimator:hover {background-color: #d4ebff;}#sk-container-id-5 div.sk-parallel-item::after {content: \"\";width: 100%;border-bottom: 1px solid gray;flex-grow: 1;}#sk-container-id-5 div.sk-label:hover label.sk-toggleable__label {background-color: #d4ebff;}#sk-container-id-5 div.sk-serial::before {content: \"\";position: absolute;border-left: 1px solid gray;box-sizing: border-box;top: 0;bottom: 0;left: 50%;z-index: 0;}#sk-container-id-5 div.sk-serial {display: flex;flex-direction: column;align-items: center;background-color: white;padding-right: 0.2em;padding-left: 0.2em;position: relative;}#sk-container-id-5 div.sk-item {position: relative;z-index: 1;}#sk-container-id-5 div.sk-parallel {display: flex;align-items: stretch;justify-content: center;background-color: white;position: relative;}#sk-container-id-5 div.sk-item::before, #sk-container-id-5 div.sk-parallel-item::before {content: \"\";position: absolute;border-left: 1px solid gray;box-sizing: border-box;top: 0;bottom: 0;left: 50%;z-index: -1;}#sk-container-id-5 div.sk-parallel-item {display: flex;flex-direction: column;z-index: 1;position: relative;background-color: white;}#sk-container-id-5 div.sk-parallel-item:first-child::after {align-self: flex-end;width: 50%;}#sk-container-id-5 div.sk-parallel-item:last-child::after {align-self: flex-start;width: 50%;}#sk-container-id-5 div.sk-parallel-item:only-child::after {width: 0;}#sk-container-id-5 div.sk-dashed-wrapped {border: 1px dashed gray;margin: 0 0.4em 0.5em 0.4em;box-sizing: border-box;padding-bottom: 0.4em;background-color: white;}#sk-container-id-5 div.sk-label label {font-family: monospace;font-weight: bold;display: inline-block;line-height: 1.2em;}#sk-container-id-5 div.sk-label-container {text-align: center;}#sk-container-id-5 div.sk-container {/* jupyter's `normalize.less` sets `[hidden] { display: none; }` but bootstrap.min.css set `[hidden] { display: none !important; }` so we also need the `!important` here to be able to override the default hidden behavior on the sphinx rendered scikit-learn.org. See: https://github.com/scikit-learn/scikit-learn/issues/21755 */display: inline-block !important;position: relative;}#sk-container-id-5 div.sk-text-repr-fallback {display: none;}</style><div id=\"sk-container-id-5\" class=\"sk-top-container\"><div class=\"sk-text-repr-fallback\"><pre>LinearRegression()</pre><b>In a Jupyter environment, please rerun this cell to show the HTML representation or trust the notebook. <br />On GitHub, the HTML representation is unable to render, please try loading this page with nbviewer.org.</b></div><div class=\"sk-container\" hidden><div class=\"sk-item\"><div class=\"sk-estimator sk-toggleable\"><input class=\"sk-toggleable__control sk-hidden--visually\" id=\"sk-estimator-id-5\" type=\"checkbox\" checked><label for=\"sk-estimator-id-5\" class=\"sk-toggleable__label sk-toggleable__label-arrow\">LinearRegression</label><div class=\"sk-toggleable__content\"><pre>LinearRegression()</pre></div></div></div></div></div>"
      ],
      "text/plain": [
       "LinearRegression()"
      ]
     },
     "execution_count": 75,
     "metadata": {},
     "output_type": "execute_result"
    }
   ],
   "source": [
    "y_train_complete_shaped = y_train_complete.to_numpy().reshape(-1,1)\n",
    "X_train_complete_scaled = StdS_X.fit_transform(X_train_complete)\n",
    "y_train_complete_scaled = StdS_y.fit_transform(y_train_complete_shaped)\n",
    "linear_model_complete = LinearRegression()\n",
    "linear_model_complete.fit(X_train_complete_scaled,y_train_complete_scaled)"
   ]
  },
  {
   "cell_type": "code",
   "execution_count": 76,
   "metadata": {},
   "outputs": [],
   "source": [
    "y_pred_linear_complete = StdS_y.inverse_transform(linear_model_complete.predict(StdS_X.transform(X_test_complete)).reshape(-1,1))"
   ]
  },
  {
   "cell_type": "code",
   "execution_count": 77,
   "metadata": {},
   "outputs": [
    {
     "data": {
      "text/plain": [
       "1736.311531009354"
      ]
     },
     "execution_count": 77,
     "metadata": {},
     "output_type": "execute_result"
    }
   ],
   "source": [
    "mean_squared_error(y_test_complete, y_pred_linear_complete, squared=False)"
   ]
  },
  {
   "cell_type": "markdown",
   "metadata": {},
   "source": [
    "### Linear Regression reduced data\n",
    "\n",
    "- RMSE: 1764.335229627625"
   ]
  },
  {
   "cell_type": "code",
   "execution_count": 83,
   "metadata": {},
   "outputs": [
    {
     "data": {
      "text/html": [
       "<style>#sk-container-id-7 {color: black;}#sk-container-id-7 pre{padding: 0;}#sk-container-id-7 div.sk-toggleable {background-color: white;}#sk-container-id-7 label.sk-toggleable__label {cursor: pointer;display: block;width: 100%;margin-bottom: 0;padding: 0.3em;box-sizing: border-box;text-align: center;}#sk-container-id-7 label.sk-toggleable__label-arrow:before {content: \"▸\";float: left;margin-right: 0.25em;color: #696969;}#sk-container-id-7 label.sk-toggleable__label-arrow:hover:before {color: black;}#sk-container-id-7 div.sk-estimator:hover label.sk-toggleable__label-arrow:before {color: black;}#sk-container-id-7 div.sk-toggleable__content {max-height: 0;max-width: 0;overflow: hidden;text-align: left;background-color: #f0f8ff;}#sk-container-id-7 div.sk-toggleable__content pre {margin: 0.2em;color: black;border-radius: 0.25em;background-color: #f0f8ff;}#sk-container-id-7 input.sk-toggleable__control:checked~div.sk-toggleable__content {max-height: 200px;max-width: 100%;overflow: auto;}#sk-container-id-7 input.sk-toggleable__control:checked~label.sk-toggleable__label-arrow:before {content: \"▾\";}#sk-container-id-7 div.sk-estimator input.sk-toggleable__control:checked~label.sk-toggleable__label {background-color: #d4ebff;}#sk-container-id-7 div.sk-label input.sk-toggleable__control:checked~label.sk-toggleable__label {background-color: #d4ebff;}#sk-container-id-7 input.sk-hidden--visually {border: 0;clip: rect(1px 1px 1px 1px);clip: rect(1px, 1px, 1px, 1px);height: 1px;margin: -1px;overflow: hidden;padding: 0;position: absolute;width: 1px;}#sk-container-id-7 div.sk-estimator {font-family: monospace;background-color: #f0f8ff;border: 1px dotted black;border-radius: 0.25em;box-sizing: border-box;margin-bottom: 0.5em;}#sk-container-id-7 div.sk-estimator:hover {background-color: #d4ebff;}#sk-container-id-7 div.sk-parallel-item::after {content: \"\";width: 100%;border-bottom: 1px solid gray;flex-grow: 1;}#sk-container-id-7 div.sk-label:hover label.sk-toggleable__label {background-color: #d4ebff;}#sk-container-id-7 div.sk-serial::before {content: \"\";position: absolute;border-left: 1px solid gray;box-sizing: border-box;top: 0;bottom: 0;left: 50%;z-index: 0;}#sk-container-id-7 div.sk-serial {display: flex;flex-direction: column;align-items: center;background-color: white;padding-right: 0.2em;padding-left: 0.2em;position: relative;}#sk-container-id-7 div.sk-item {position: relative;z-index: 1;}#sk-container-id-7 div.sk-parallel {display: flex;align-items: stretch;justify-content: center;background-color: white;position: relative;}#sk-container-id-7 div.sk-item::before, #sk-container-id-7 div.sk-parallel-item::before {content: \"\";position: absolute;border-left: 1px solid gray;box-sizing: border-box;top: 0;bottom: 0;left: 50%;z-index: -1;}#sk-container-id-7 div.sk-parallel-item {display: flex;flex-direction: column;z-index: 1;position: relative;background-color: white;}#sk-container-id-7 div.sk-parallel-item:first-child::after {align-self: flex-end;width: 50%;}#sk-container-id-7 div.sk-parallel-item:last-child::after {align-self: flex-start;width: 50%;}#sk-container-id-7 div.sk-parallel-item:only-child::after {width: 0;}#sk-container-id-7 div.sk-dashed-wrapped {border: 1px dashed gray;margin: 0 0.4em 0.5em 0.4em;box-sizing: border-box;padding-bottom: 0.4em;background-color: white;}#sk-container-id-7 div.sk-label label {font-family: monospace;font-weight: bold;display: inline-block;line-height: 1.2em;}#sk-container-id-7 div.sk-label-container {text-align: center;}#sk-container-id-7 div.sk-container {/* jupyter's `normalize.less` sets `[hidden] { display: none; }` but bootstrap.min.css set `[hidden] { display: none !important; }` so we also need the `!important` here to be able to override the default hidden behavior on the sphinx rendered scikit-learn.org. See: https://github.com/scikit-learn/scikit-learn/issues/21755 */display: inline-block !important;position: relative;}#sk-container-id-7 div.sk-text-repr-fallback {display: none;}</style><div id=\"sk-container-id-7\" class=\"sk-top-container\"><div class=\"sk-text-repr-fallback\"><pre>LinearRegression()</pre><b>In a Jupyter environment, please rerun this cell to show the HTML representation or trust the notebook. <br />On GitHub, the HTML representation is unable to render, please try loading this page with nbviewer.org.</b></div><div class=\"sk-container\" hidden><div class=\"sk-item\"><div class=\"sk-estimator sk-toggleable\"><input class=\"sk-toggleable__control sk-hidden--visually\" id=\"sk-estimator-id-7\" type=\"checkbox\" checked><label for=\"sk-estimator-id-7\" class=\"sk-toggleable__label sk-toggleable__label-arrow\">LinearRegression</label><div class=\"sk-toggleable__content\"><pre>LinearRegression()</pre></div></div></div></div></div>"
      ],
      "text/plain": [
       "LinearRegression()"
      ]
     },
     "execution_count": 83,
     "metadata": {},
     "output_type": "execute_result"
    }
   ],
   "source": [
    "y_train_reduced_shaped = y_train_reduced.to_numpy().reshape(-1,1)\n",
    "X_train_reduced_scaled = StdS_X.fit_transform(X_train_reduced)\n",
    "y_train_reduced_scaled = StdS_y.fit_transform(y_train_reduced_shaped)\n",
    "linear_model_reduced = LinearRegression()\n",
    "linear_model_reduced.fit(X_train_reduced_scaled,y_train_reduced_scaled)"
   ]
  },
  {
   "cell_type": "code",
   "execution_count": 84,
   "metadata": {},
   "outputs": [],
   "source": [
    "y_pred_linear_reduced = StdS_y.inverse_transform(linear_model_reduced.predict(StdS_X.transform(X_test_reduced)).reshape(-1,1))"
   ]
  },
  {
   "cell_type": "code",
   "execution_count": 85,
   "metadata": {},
   "outputs": [
    {
     "data": {
      "text/plain": [
       "1764.335229627625"
      ]
     },
     "execution_count": 85,
     "metadata": {},
     "output_type": "execute_result"
    }
   ],
   "source": [
    "mean_squared_error(y_test_reduced, y_pred_linear_reduced, squared=False)"
   ]
  },
  {
   "cell_type": "markdown",
   "metadata": {},
   "source": [
    "### Multivariate Polynomial Regression with all data\n",
    "\n",
    "- RMSE: 1633.4981016108911"
   ]
  },
  {
   "cell_type": "code",
   "execution_count": 86,
   "metadata": {},
   "outputs": [
    {
     "data": {
      "text/plain": [
       "[<matplotlib.lines.Line2D at 0x7f3133c8e5d0>]"
      ]
     },
     "execution_count": 86,
     "metadata": {},
     "output_type": "execute_result"
    },
    {
     "data": {
      "image/png": "[encoded data removed]",
      "text/plain": [
       "<Figure size 640x480 with 1 Axes>"
      ]
     },
     "metadata": {},
     "output_type": "display_data"
    }
   ],
   "source": [
    "number_degrees = [1,2,3,4,5]\n",
    "plt_mean_squared_error = []\n",
    "for degree in number_degrees:\n",
    "\n",
    "   poly_model_complete = PolynomialFeatures(degree=degree)\n",
    "\n",
    "   poly_x_train_complete = poly_model_complete.fit_transform(X_train_complete)\n",
    "   poly_x_test_complete = poly_model_complete.fit_transform(X_test_complete)\n",
    "\n",
    "   poly_model_complete.fit(poly_x_train_complete, y_train_complete)\n",
    "\n",
    "   regression_model_complete = LinearRegression()\n",
    "   regression_model_complete.fit(poly_x_train_complete, y_train_complete)\n",
    "\n",
    "   y_pred_complete = regression_model_complete.predict(poly_x_test_complete)\n",
    "  \n",
    "   plt_mean_squared_error.append(mean_squared_error(y_test_complete, y_pred_complete, squared=False))\n",
    "  \n",
    "plt.scatter(number_degrees,plt_mean_squared_error, color=\"blue\")\n",
    "plt.plot(number_degrees,plt_mean_squared_error, color=\"red\") "
   ]
  },
  {
   "cell_type": "code",
   "execution_count": 87,
   "metadata": {},
   "outputs": [
    {
     "data": {
      "text/plain": [
       "1633.4981016108911"
      ]
     },
     "execution_count": 87,
     "metadata": {},
     "output_type": "execute_result"
    }
   ],
   "source": [
    "np.min(plt_mean_squared_error)"
   ]
  },
  {
   "cell_type": "markdown",
   "metadata": {},
   "source": [
    "### Multivariate Polynomial Regression with reduced data\n",
    "\n",
    "- RMSE: 1607.787357591157"
   ]
  },
  {
   "cell_type": "code",
   "execution_count": 88,
   "metadata": {},
   "outputs": [
    {
     "data": {
      "text/plain": [
       "[<matplotlib.lines.Line2D at 0x7f3136a43b10>]"
      ]
     },
     "execution_count": 88,
     "metadata": {},
     "output_type": "execute_result"
    },
    {
     "data": {
      "image/png": "[encoded data removed]",
      "text/plain": [
       "<Figure size 640x480 with 1 Axes>"
      ]
     },
     "metadata": {},
     "output_type": "display_data"
    }
   ],
   "source": [
    "number_degrees = [1,2,3,4,5]\n",
    "plt_mean_squared_error = []\n",
    "for degree in number_degrees:\n",
    "\n",
    "   poly_model_reduced = PolynomialFeatures(degree=degree)\n",
    "   \n",
    "   poly_x_train_reduced = poly_model_reduced.fit_transform(X_train_reduced)\n",
    "   poly_x_test_reduced = poly_model_reduced.fit_transform(X_test_reduced)\n",
    "\n",
    "   poly_model_reduced.fit(poly_x_train_reduced, y_train_reduced)\n",
    "  \n",
    "   regression_model_reduced = LinearRegression()\n",
    "   regression_model_reduced.fit(poly_x_train_reduced, y_train_reduced)\n",
    "   y_pred_reduced = regression_model_reduced.predict(poly_x_test_reduced)\n",
    "  \n",
    "   plt_mean_squared_error.append(mean_squared_error(y_test_reduced, y_pred_reduced, squared=False))\n",
    "  \n",
    "plt.scatter(number_degrees,plt_mean_squared_error, color=\"blue\")\n",
    "plt.plot(number_degrees,plt_mean_squared_error, color=\"red\") "
   ]
  },
  {
   "cell_type": "code",
   "execution_count": 89,
   "metadata": {},
   "outputs": [
    {
     "data": {
      "text/plain": [
       "1607.787357591157"
      ]
     },
     "execution_count": 89,
     "metadata": {},
     "output_type": "execute_result"
    }
   ],
   "source": [
    "np.min(plt_mean_squared_error)"
   ]
  },
  {
   "cell_type": "markdown",
   "metadata": {},
   "source": [
    "# Save model"
   ]
  },
  {
   "cell_type": "markdown",
   "metadata": {},
   "source": [
    "# Load model"
   ]
  },
  {
   "cell_type": "markdown",
   "metadata": {},
   "source": [
    "# Get minute forecast"
   ]
  },
  {
   "cell_type": "code",
   "execution_count": 22,
   "metadata": {},
   "outputs": [],
   "source": [
    "import json"
   ]
  },
  {
   "cell_type": "code",
   "execution_count": 23,
   "metadata": {},
   "outputs": [],
   "source": [
    "with open('minute_forecast.json') as file:\n",
    "    forecast = json.load(file)"
   ]
  },
  {
   "cell_type": "code",
   "execution_count": 24,
   "metadata": {},
   "outputs": [
    {
     "data": {
      "text/plain": [
       "dict_keys(['lat', 'lon', 'timezone', 'timezone_offset', 'current', 'minutely', 'hourly', 'daily'])"
      ]
     },
     "execution_count": 24,
     "metadata": {},
     "output_type": "execute_result"
    }
   ],
   "source": [
    "forecast.keys()"
   ]
  },
  {
   "cell_type": "code",
   "execution_count": 25,
   "metadata": {},
   "outputs": [],
   "source": [
    "unneeded_keys = ['minutely']"
   ]
  },
  {
   "cell_type": "code",
   "execution_count": 26,
   "metadata": {},
   "outputs": [],
   "source": [
    "for key in unneeded_keys:\n",
    "    forecast.pop(key, None)"
   ]
  },
  {
   "cell_type": "code",
   "execution_count": 27,
   "metadata": {},
   "outputs": [
    {
     "data": {
      "text/plain": [
       "dict_keys(['dt', 'temp', 'feels_like', 'pressure', 'humidity', 'dew_point', 'uvi', 'clouds', 'visibility', 'wind_speed', 'wind_deg', 'wind_gust', 'weather', 'pop'])"
      ]
     },
     "execution_count": 27,
     "metadata": {},
     "output_type": "execute_result"
    }
   ],
   "source": [
    "forecast['hourly'][0].keys()"
   ]
  },
  {
   "cell_type": "code",
   "execution_count": 28,
   "metadata": {},
   "outputs": [
    {
     "data": {
      "text/plain": [
       "Index(['dt', 'clouds', 'uvi', 'temp', 'wind_speed', 'wind_deg', 'wind_gust',\n",
       "       'feels_like', 'pressure', 'dew_point', 'humidity', 'current', 'voltage',\n",
       "       'power', 'is_day'],\n",
       "      dtype='object')"
      ]
     },
     "execution_count": 28,
     "metadata": {},
     "output_type": "execute_result"
    }
   ],
   "source": [
    "df_processed.keys()"
   ]
  },
  {
   "cell_type": "code",
   "execution_count": 29,
   "metadata": {},
   "outputs": [],
   "source": [
    "processed_forecast = []\n",
    "keys=['dt', 'clouds', 'uvi', 'temp', 'wind_speed', 'wind_deg', 'wind_gust',\n",
    "       'feels_like', 'pressure', 'dew_point', 'humidity', 'is_day']\n",
    "sample_dict = {}\n",
    "for key in keys:\n",
    "    sample_dict[key] = None"
   ]
  },
  {
   "cell_type": "code",
   "execution_count": 30,
   "metadata": {},
   "outputs": [],
   "source": [
    "def is_day(timestamp):\n",
    "    for day in forecast['daily']:\n",
    "        day_starttime = day['dt']- 36000\n",
    "        diff = timestamp - day_starttime\n",
    "        if diff >= 0 and diff < 86400:\n",
    "            return 1 if day['sunrise'] < timestamp and day['sunset'] > timestamp else 0"
   ]
  },
  {
   "cell_type": "code",
   "execution_count": 31,
   "metadata": {},
   "outputs": [],
   "source": [
    "for hour in forecast['hourly']:\n",
    "    hour['is_day'] = is_day(hour['dt'])\n",
    "    pop_keys = set(hour.keys()) - set(sample_dict.keys())\n",
    "    for key in pop_keys:\n",
    "        hour.pop(key, None)\n",
    "    d = sample_dict.copy() | hour\n",
    "    processed_forecast.append(list(d.values()))\n",
    "    "
   ]
  },
  {
   "cell_type": "code",
   "execution_count": 32,
   "metadata": {},
   "outputs": [],
   "source": [
    "hours = []"
   ]
  },
  {
   "cell_type": "code",
   "execution_count": 33,
   "metadata": {},
   "outputs": [],
   "source": [
    "for hour in processed_forecast:\n",
    "    hours.append(hour[0])"
   ]
  },
  {
   "cell_type": "code",
   "execution_count": 40,
   "metadata": {},
   "outputs": [
    {
     "name": "stderr",
     "output_type": "stream",
     "text": [
      "/home/raphi/.pyenv/versions/3.11.3/envs/GreenAI_regression/lib/python3.11/site-packages/sklearn/base.py:465: UserWarning: X does not have valid feature names, but StandardScaler was fitted with feature names\n",
      "  warnings.warn(\n"
     ]
    }
   ],
   "source": [
    "pred_complete = StdS_y.inverse_transform(regressor_complete.predict(StdS_X.transform(processed_forecast)).reshape(-1,1))"
   ]
  },
  {
   "cell_type": "code",
   "execution_count": 85,
   "metadata": {},
   "outputs": [
    {
     "data": {
      "image/png": "[encoded data removed]",
      "text/plain": [
       "<Figure size 2000x480 with 1 Axes>"
      ]
     },
     "metadata": {},
     "output_type": "display_data"
    }
   ],
   "source": [
    "fig, ax = plt.subplots()\n",
    "\n",
    "ax.plot(hours_datetime, pred_complete, color='#ffa66f', label=\"Prediction based on Forecast\")\n",
    "ax.plot(test_timestamps_datetime, test_power, color='#073763', label=\"Actual power generation\")\n",
    "legend = ax.legend(loc='upper right')\n",
    "# ax.bar(hours, pred_complete)\n",
    "fig.set_figwidth(20)\n",
    "plt.ylabel(\"Power\")\n",
    "plt.xlabel(\"Timestamp\")\n",
    "# plt.xticks(hours)\n",
    "plt.show()"
   ]
  },
  {
   "cell_type": "code",
   "execution_count": null,
   "metadata": {},
   "outputs": [],
   "source": [
    "fig, ax = plt.subplots()\n",
    "\n",
    "ax.plot(hours_datetime, pred_complete, color='#ffa66f', label=\"Prediction based on Forecast\")\n",
    "ax.plot(test_timestamps_datetime, test_power, color='#073763', label=\"Actual power generation\")\n",
    "legend = ax.legend(loc='upper right')\n",
    "# ax.bar(hours, pred_complete)\n",
    "fig.set_figwidth(20)\n",
    "plt.ylabel(\"Power\")\n",
    "plt.xlabel(\"Timestamp\")\n",
    "# plt.xticks(hours)\n",
    "plt.show()"
   ]
  },
  {
   "cell_type": "code",
   "execution_count": 35,
   "metadata": {},
   "outputs": [],
   "source": [
    "df_test = pd.read_csv(\"2023-10-25_20 03 15_weather_log.csv\")"
   ]
  },
  {
   "cell_type": "code",
   "execution_count": 36,
   "metadata": {},
   "outputs": [],
   "source": [
    "df_test_reduced = df_test[df_test.dt > 1698127200]"
   ]
  },
  {
   "cell_type": "code",
   "execution_count": 37,
   "metadata": {},
   "outputs": [],
   "source": [
    "test_timestamps = df_test_reduced['dt'].to_numpy()\n",
    "test_power = df_test_reduced['power'].to_numpy()"
   ]
  },
  {
   "cell_type": "code",
   "execution_count": 43,
   "metadata": {},
   "outputs": [],
   "source": [
    "hours_datetime = [datetime.fromtimestamp(timestamp) for timestamp in hours]"
   ]
  },
  {
   "cell_type": "code",
   "execution_count": 45,
   "metadata": {},
   "outputs": [],
   "source": [
    "test_timestamps_datetime = [datetime.fromtimestamp(timestamp) for timestamp in test_timestamps]"
   ]
  },
  {
   "cell_type": "code",
   "execution_count": 61,
   "metadata": {},
   "outputs": [],
   "source": [
    "pred_complete_cleaned = [0 if power[0] < 0 else power[0] for power in pred_complete.tolist()]"
   ]
  },
  {
   "cell_type": "code",
   "execution_count": 68,
   "metadata": {},
   "outputs": [],
   "source": [
    "from subset import subset_sum_closest"
   ]
  },
  {
   "cell_type": "code",
   "execution_count": 142,
   "metadata": {},
   "outputs": [],
   "source": [
    "consumers =[5000,3000,1000,3500,8000,4000]\n",
    "queue = []\n",
    "labels = []"
   ]
  },
  {
   "cell_type": "code",
   "execution_count": 143,
   "metadata": {},
   "outputs": [],
   "source": [
    "for power in pred_complete_cleaned:\n",
    "    selected_consumers, usage = subset_sum_closest(consumers, int(power))\n",
    "    queue.append(usage)\n",
    "    if selected_consumers:\n",
    "        labels.append(selected_consumers)\n",
    "    else:\n",
    "        labels.append(' ')"
   ]
  },
  {
   "cell_type": "code",
   "execution_count": 149,
   "metadata": {},
   "outputs": [
    {
     "data": {
      "image/png": "[encoded data removed]",
      "text/plain": [
       "<Figure size 2000x480 with 1 Axes>"
      ]
     },
     "metadata": {},
     "output_type": "display_data"
    }
   ],
   "source": [
    "fig, ax = plt.subplots()\n",
    "\n",
    "ax.step(hours_datetime, pred_complete_cleaned, color='#ffa66f', label=\"Prediction based on Forecast\", where='post')\n",
    "# ax.plot(test_timestamps_datetime, test_power, color='#073763', label=\"Actual power generation\")\n",
    "bars = ax.bar(hours_datetime, queue, width=0.035, align='edge', color='#073763', label='Sum of power consumed')\n",
    "legend = ax.legend(loc='upper right')\n",
    "# ax.bar_label(bars, labels=labels, label_type='center', rotation=90, color='white')\n",
    "fig.set_figwidth(20)\n",
    "plt.ylabel(\"Power\")\n",
    "plt.xlabel(\"Timestamp\")\n",
    "# plt.xticks(hours)\n",
    "plt.show()"
   ]
  }
 ],
 "metadata": {
  "kernelspec": {
   "display_name": "GreenAI_regression",
   "language": "python",
   "name": "python3"
  },
  "language_info": {
   "codemirror_mode": {
    "name": "ipython",
    "version": 3
   },
   "file_extension": ".py",
   "mimetype": "text/x-python",
   "name": "python",
   "nbconvert_exporter": "python",
   "pygments_lexer": "ipython3",
   "version": "3.11.3"
  },
  "orig_nbformat": 4
 },
 "nbformat": 4,
 "nbformat_minor": 2
}
